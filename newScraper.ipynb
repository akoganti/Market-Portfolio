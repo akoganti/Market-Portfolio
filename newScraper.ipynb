{
 "metadata": {
  "language_info": {
   "codemirror_mode": {
    "name": "ipython",
    "version": 3
   },
   "file_extension": ".py",
   "mimetype": "text/x-python",
   "name": "python",
   "nbconvert_exporter": "python",
   "pygments_lexer": "ipython3",
   "version": "3.8.5-final"
  },
  "orig_nbformat": 2,
  "kernelspec": {
   "name": "python3",
   "display_name": "Python 3.8.5 64-bit ('investmentresearch': conda)",
   "metadata": {
    "interpreter": {
     "hash": "e4e30eeeeff31c32101eb9e87f02af63b1c375dcdb8e3e557c994c1d923d974d"
    }
   }
  }
 },
 "nbformat": 4,
 "nbformat_minor": 2,
 "cells": [
  {
   "cell_type": "code",
   "execution_count": 16,
   "metadata": {},
   "outputs": [],
   "source": [
    "from selenium import webdriver\n",
    "from selenium.webdriver import ChromeOptions\n",
    "import time\n",
    "import requests\n",
    "from bs4 import BeautifulSoup\n",
    "from io import StringIO\n",
    "import re\n",
    "import textract\n",
    "import os\n",
    "from unicodedata import normalize\n",
    "import pandas as pd\n",
    "\n",
    "options = ChromeOptions()\n",
    "options.add_argument(\"headless\")\n",
    "options.add_argument(\"disable-gpu\")"
   ]
  },
  {
   "cell_type": "code",
   "execution_count": 26,
   "metadata": {},
   "outputs": [
    {
     "output_type": "error",
     "ename": "IndexError",
     "evalue": "list index out of range",
     "traceback": [
      "\u001b[0;31m---------------------------------------------------------------------------\u001b[0m",
      "\u001b[0;31mIndexError\u001b[0m                                Traceback (most recent call last)",
      "\u001b[0;32m<ipython-input-26-723726b56d34>\u001b[0m in \u001b[0;36m<module>\u001b[0;34m\u001b[0m\n\u001b[1;32m     14\u001b[0m         \u001b[0mpdf_text\u001b[0m \u001b[0;34m=\u001b[0m \u001b[0mre\u001b[0m\u001b[0;34m.\u001b[0m\u001b[0msub\u001b[0m\u001b[0;34m(\u001b[0m\u001b[0;34m'  '\u001b[0m\u001b[0;34m,\u001b[0m\u001b[0;34m' '\u001b[0m\u001b[0;34m,\u001b[0m\u001b[0mre\u001b[0m\u001b[0;34m.\u001b[0m\u001b[0msub\u001b[0m\u001b[0;34m(\u001b[0m\u001b[0;34m'\\n'\u001b[0m\u001b[0;34m,\u001b[0m\u001b[0;34m' '\u001b[0m\u001b[0;34m,\u001b[0m\u001b[0mnormalize\u001b[0m\u001b[0;34m(\u001b[0m\u001b[0;34m'NFKD'\u001b[0m\u001b[0;34m,\u001b[0m\u001b[0mread_pdf\u001b[0m\u001b[0;34m)\u001b[0m\u001b[0;34m)\u001b[0m\u001b[0;34m)\u001b[0m\u001b[0;34m\u001b[0m\u001b[0;34m\u001b[0m\u001b[0m\n\u001b[1;32m     15\u001b[0m         \u001b[0mdates\u001b[0m\u001b[0;34m.\u001b[0m\u001b[0mappend\u001b[0m\u001b[0;34m(\u001b[0m\u001b[0mlink\u001b[0m\u001b[0;34m.\u001b[0m\u001b[0mtext\u001b[0m\u001b[0;34m.\u001b[0m\u001b[0mreplace\u001b[0m\u001b[0;34m(\u001b[0m\u001b[0;34m'Quarter Ending '\u001b[0m\u001b[0;34m,\u001b[0m \u001b[0;34m''\u001b[0m\u001b[0;34m)\u001b[0m\u001b[0;34m)\u001b[0m\u001b[0;34m\u001b[0m\u001b[0;34m\u001b[0m\u001b[0m\n\u001b[0;32m---> 16\u001b[0;31m         \u001b[0mmarketCaps\u001b[0m\u001b[0;34m.\u001b[0m\u001b[0mappend\u001b[0m\u001b[0;34m(\u001b[0m\u001b[0mfloat\u001b[0m\u001b[0;34m(\u001b[0m\u001b[0mre\u001b[0m\u001b[0;34m.\u001b[0m\u001b[0mfindall\u001b[0m\u001b[0;34m(\u001b[0m\u001b[0;34m'INDEX MARKET CAP\\s+\\d+,\\d+,\\d+'\u001b[0m\u001b[0;34m,\u001b[0m \u001b[0mpdf_text\u001b[0m\u001b[0;34m,\u001b[0m \u001b[0mre\u001b[0m\u001b[0;34m.\u001b[0m\u001b[0mIGNORECASE\u001b[0m\u001b[0;34m)\u001b[0m\u001b[0;34m[\u001b[0m\u001b[0;36m0\u001b[0m\u001b[0;34m]\u001b[0m\u001b[0;34m.\u001b[0m\u001b[0mupper\u001b[0m\u001b[0;34m(\u001b[0m\u001b[0;34m)\u001b[0m\u001b[0;34m.\u001b[0m\u001b[0mreplace\u001b[0m\u001b[0;34m(\u001b[0m\u001b[0;34m'INDEX MARKET CAP'\u001b[0m\u001b[0;34m,\u001b[0m\u001b[0;34m''\u001b[0m\u001b[0;34m)\u001b[0m\u001b[0;34m.\u001b[0m\u001b[0mreplace\u001b[0m\u001b[0;34m(\u001b[0m\u001b[0;34m','\u001b[0m\u001b[0;34m,\u001b[0m\u001b[0;34m''\u001b[0m\u001b[0;34m)\u001b[0m\u001b[0;34m)\u001b[0m\u001b[0;34m/\u001b[0m\u001b[0;36m1000\u001b[0m\u001b[0;34m)\u001b[0m\u001b[0;34m\u001b[0m\u001b[0;34m\u001b[0m\u001b[0m\n\u001b[0m\u001b[1;32m     17\u001b[0m \u001b[0mvtiDF\u001b[0m \u001b[0;34m=\u001b[0m \u001b[0mpd\u001b[0m\u001b[0;34m.\u001b[0m\u001b[0mDataFrame\u001b[0m\u001b[0;34m(\u001b[0m\u001b[0;34m{\u001b[0m\u001b[0;34m'date'\u001b[0m\u001b[0;34m:\u001b[0m\u001b[0mpd\u001b[0m\u001b[0;34m.\u001b[0m\u001b[0mto_datetime\u001b[0m\u001b[0;34m(\u001b[0m\u001b[0mdates\u001b[0m\u001b[0;34m,\u001b[0m \u001b[0minfer_datetime_format\u001b[0m\u001b[0;34m=\u001b[0m\u001b[0;32mTrue\u001b[0m\u001b[0;34m)\u001b[0m\u001b[0;34m,\u001b[0m\u001b[0;34m'Market Cap'\u001b[0m\u001b[0;34m:\u001b[0m\u001b[0mmarketCaps\u001b[0m\u001b[0;34m}\u001b[0m\u001b[0;34m)\u001b[0m\u001b[0;34m.\u001b[0m\u001b[0msort_values\u001b[0m\u001b[0;34m(\u001b[0m\u001b[0mby\u001b[0m\u001b[0;34m=\u001b[0m\u001b[0;34m'date'\u001b[0m\u001b[0;34m)\u001b[0m\u001b[0;34m.\u001b[0m\u001b[0mreset_index\u001b[0m\u001b[0;34m(\u001b[0m\u001b[0mdrop\u001b[0m\u001b[0;34m=\u001b[0m\u001b[0;32mTrue\u001b[0m\u001b[0;34m)\u001b[0m\u001b[0;34m\u001b[0m\u001b[0;34m\u001b[0m\u001b[0m\n\u001b[1;32m     18\u001b[0m \u001b[0mprint\u001b[0m\u001b[0;34m(\u001b[0m\u001b[0mvtiDF\u001b[0m\u001b[0;34m)\u001b[0m\u001b[0;34m\u001b[0m\u001b[0;34m\u001b[0m\u001b[0m\n",
      "\u001b[0;31mIndexError\u001b[0m: list index out of range"
     ]
    }
   ],
   "source": [
    "#Scraping data from index report()\n",
    "marketCaps = []\n",
    "dates = []\n",
    "r = requests.get(\"http://www.crsp.org/fact-sheet-archive\")\n",
    "soup = BeautifulSoup(r.text,features=\"html.parser\")\n",
    "for link in soup.find_all('a'):\n",
    "    if re.search('crsptm', str(link.get('href')), re.IGNORECASE):\n",
    "        pdf = requests.get(link.get('href'))\n",
    "        with open('/tmp/index.pdf', 'wb') as f:\n",
    "            f.write(pdf.content)\n",
    "            read_pdf = textract.process('/tmp/index.pdf')\n",
    "            read_pdf = read_pdf.decode(\"utf8\")\n",
    "        os.remove('/tmp/index.pdf')\n",
    "        pdf_text = re.sub('  ',' ',re.sub('\\n',' ',normalize('NFKD',read_pdf)))\n",
    "        dates.append(link.text.replace('Quarter Ending ', ''))\n",
    "        marketCaps.append(float(re.findall('INDEX MARKET CAP\\s+\\d+,\\d+,\\d+', pdf_text, re.IGNORECASE)[0].upper().replace('INDEX MARKET CAP','').replace(',',''))/1000)\n",
    "vtiDF = pd.DataFrame({'date':pd.to_datetime(dates, infer_datetime_format=True),'Market Cap':marketCaps}).sort_values(by='date').reset_index(drop=True)\n",
    "print(vtiDF)"
   ]
  },
  {
   "cell_type": "code",
   "execution_count": null,
   "metadata": {},
   "outputs": [],
   "source": []
  },
  {
   "cell_type": "code",
   "execution_count": null,
   "metadata": {},
   "outputs": [],
   "source": [
    "#Scraping data from index report(FTSE Global All Cap ex US Index) for VXUS"
   ]
  },
  {
   "cell_type": "code",
   "execution_count": 17,
   "metadata": {},
   "outputs": [],
   "source": [
    "#Scraping data from index report(FTSE Russell USBIG Index) for BND\n",
    "dates = []\n",
    "marketCaps = []\n",
    "links = []\n",
    "\n",
    "driver = webdriver.Chrome(options=options)\n",
    "driver.get('https://www.ftserussell.com/analytics/factsheets/home/search')\n",
    "archive = driver.find_element_by_xpath('//a[@title=\"FTSE US Broad Investment-Grade Bond Index (USBIG®)\"]/following-sibling::a')\n",
    "driver.execute_script(\"arguments[0].click();\",archive)\n",
    "time.sleep(2)\n",
    "soup = BeautifulSoup(driver.page_source, 'html.parser')\n",
    "driver.close()\n",
    "div = soup.find(\"h4\", string=\"FTSE US Broad Investment-Grade Bond Index (USBIG®)\").parent\n",
    "for li in div.find('ul').findAll('li'):\n",
    "    links.append(li.find('a',href=True)['href'])\n",
    "links.append(BeautifulSoup(requests.get('https://www.ftserussell.com/analytics/factsheets/home/search').text,features=\"html.parser\").find('a',{'title':'FTSE US Broad Investment-Grade Bond Index (USBIG®)'})['href'])\n",
    "\n",
    "for link in links:\n",
    "    pdf = requests.get(link)\n",
    "    with open('/tmp/index.pdf', 'wb') as f:\n",
    "        f.write(pdf.content)\n",
    "        read_pdf = textract.process('/tmp/index.pdf')\n",
    "        read_pdf = read_pdf.decode(\"utf8\")\n",
    "    os.remove('/tmp/index.pdf')\n",
    "    pdf_text = re.sub('  ',' ',re.sub('\\n',' ',normalize('NFKD',read_pdf)))\n",
    "    dates.append(re.sub('FTSE Russell Factsheet\\s\\S\\s','',re.findall('FTSE Russell Factsheet\\s\\S\\s\\w+ \\d+, \\d+', pdf_text, re.IGNORECASE)[0]))\n",
    "    marketCaps.append(float(re.sub('Market Value. ','',re.findall('Market Value. \\d+,\\d+.\\d+',pdf_text,re.IGNORECASE)[0]).replace(',','')))\n",
    "bndDF = pd.DataFrame({'date':pd.to_datetime(dates, infer_datetime_format=True),'Market Cap':marketCaps}).sort_values(by='date').reset_index(drop=True)\n",
    "print(bndDF)"
   ]
  },
  {
   "cell_type": "code",
   "execution_count": null,
   "metadata": {},
   "outputs": [],
   "source": [
    "#Scraping data from index report(FTSE Russell WorldBIG Index) for BNDX"
   ]
  }
 ]
}