{
 "cells": [
  {
   "cell_type": "code",
   "execution_count": 24,
   "metadata": {},
   "outputs": [],
   "source": [
    "import numpy as np\n",
    "import pandas as pd\n",
    "from datetime import datetime,date\n",
    "# Saved Tiingo API Token in 'token' variable in apiToken.py file\n",
    "from apiToken import token"
   ]
  },
  {
   "cell_type": "code",
   "execution_count": 31,
   "metadata": {
    "tags": []
   },
   "outputs": [],
   "source": [
    "# Getting prices from Tiingo\n",
    "def getPrice(token,ticker,startDate,endDate):\n",
    "    return pd.read_csv('https://api.tiingo.com/tiingo/daily/'+ticker+'/prices?startDate='+startDate+'&endDate='+endDate+'&token='+token+'&format=csv')\n",
    "today = str(date.today())\n",
    "bndPrice = getPrice(token,'bnd','2019-08-31',today).loc[:,['date','close']]\n",
    "bndxPrice = getPrice(token,'bndx','2019-08-31',today).loc[:,['date','close']]\n",
    "vtiPrice = getPrice(token,'vti','2019-08-31',today).loc[:,['date','close']]\n",
    "vxusPrice = getPrice(token,'vxus','2019-08-31',today).loc[:,['date','close']]"
   ]
  },
  {
   "cell_type": "code",
   "execution_count": 32,
   "metadata": {},
   "outputs": [],
   "source": [
    "# Reading saved data (Market cap is in billions)\n",
    "vti = pd.read_csv('Data/vti_MC_Data.csv')\n",
    "vti['year'] = pd.DatetimeIndex(vti['date']).year\n",
    "vti['month'] = pd.DatetimeIndex(vti['date']).month\n",
    "vxus = pd.read_csv('Data/vxus_MC_Data.csv')\n",
    "vxus['year'] = pd.DatetimeIndex(vxus['date']).year\n",
    "vxus['month'] = pd.DatetimeIndex(vxus['date']).month\n",
    "bnd = pd.read_csv('Data/bnd_MC_Data.csv')\n",
    "bnd['year'] = pd.DatetimeIndex(bnd['date']).year\n",
    "bnd['month'] = pd.DatetimeIndex(bnd['date']).month\n",
    "bndx = pd.read_csv('Data/bndx_MC_Data.csv')\n",
    "bndx['year'] = pd.DatetimeIndex(bndx['date']).year\n",
    "bndx['month'] = pd.DatetimeIndex(bndx['date']).month"
   ]
  },
  {
   "cell_type": "code",
   "execution_count": 33,
   "metadata": {},
   "outputs": [
    {
     "output_type": "execute_result",
     "data": {
      "text/plain": "           date  VTI_ClosePrice  VXUS_ClosePrice  BND_ClosePrice  \\\n0    2019-09-03          148.07            50.38           84.99   \n1    2019-09-04          149.65            51.14           85.15   \n2    2019-09-05          151.65            51.53           84.71   \n3    2019-09-06          151.68            51.69           84.81   \n4    2019-09-09          151.77            51.75           84.42   \n..          ...             ...              ...             ...   \n223  2020-07-22          165.77            52.20           89.11   \n224  2020-07-23          163.96            51.80           89.19   \n225  2020-07-24          162.69            51.61           89.17   \n226  2020-07-27          164.09            52.35           89.11   \n227  2020-07-28          162.89            51.98           89.15   \n\n     BNDX_ClosePrice  \n0             59.220  \n1             59.030  \n2             58.810  \n3             58.880  \n4             58.730  \n..               ...  \n223           58.080  \n224           58.070  \n225           58.040  \n226           58.115  \n227           58.150  \n\n[228 rows x 5 columns]",
      "text/html": "<div>\n<style scoped>\n    .dataframe tbody tr th:only-of-type {\n        vertical-align: middle;\n    }\n\n    .dataframe tbody tr th {\n        vertical-align: top;\n    }\n\n    .dataframe thead th {\n        text-align: right;\n    }\n</style>\n<table border=\"1\" class=\"dataframe\">\n  <thead>\n    <tr style=\"text-align: right;\">\n      <th></th>\n      <th>date</th>\n      <th>VTI_ClosePrice</th>\n      <th>VXUS_ClosePrice</th>\n      <th>BND_ClosePrice</th>\n      <th>BNDX_ClosePrice</th>\n    </tr>\n  </thead>\n  <tbody>\n    <tr>\n      <th>0</th>\n      <td>2019-09-03</td>\n      <td>148.07</td>\n      <td>50.38</td>\n      <td>84.99</td>\n      <td>59.220</td>\n    </tr>\n    <tr>\n      <th>1</th>\n      <td>2019-09-04</td>\n      <td>149.65</td>\n      <td>51.14</td>\n      <td>85.15</td>\n      <td>59.030</td>\n    </tr>\n    <tr>\n      <th>2</th>\n      <td>2019-09-05</td>\n      <td>151.65</td>\n      <td>51.53</td>\n      <td>84.71</td>\n      <td>58.810</td>\n    </tr>\n    <tr>\n      <th>3</th>\n      <td>2019-09-06</td>\n      <td>151.68</td>\n      <td>51.69</td>\n      <td>84.81</td>\n      <td>58.880</td>\n    </tr>\n    <tr>\n      <th>4</th>\n      <td>2019-09-09</td>\n      <td>151.77</td>\n      <td>51.75</td>\n      <td>84.42</td>\n      <td>58.730</td>\n    </tr>\n    <tr>\n      <th>...</th>\n      <td>...</td>\n      <td>...</td>\n      <td>...</td>\n      <td>...</td>\n      <td>...</td>\n    </tr>\n    <tr>\n      <th>223</th>\n      <td>2020-07-22</td>\n      <td>165.77</td>\n      <td>52.20</td>\n      <td>89.11</td>\n      <td>58.080</td>\n    </tr>\n    <tr>\n      <th>224</th>\n      <td>2020-07-23</td>\n      <td>163.96</td>\n      <td>51.80</td>\n      <td>89.19</td>\n      <td>58.070</td>\n    </tr>\n    <tr>\n      <th>225</th>\n      <td>2020-07-24</td>\n      <td>162.69</td>\n      <td>51.61</td>\n      <td>89.17</td>\n      <td>58.040</td>\n    </tr>\n    <tr>\n      <th>226</th>\n      <td>2020-07-27</td>\n      <td>164.09</td>\n      <td>52.35</td>\n      <td>89.11</td>\n      <td>58.115</td>\n    </tr>\n    <tr>\n      <th>227</th>\n      <td>2020-07-28</td>\n      <td>162.89</td>\n      <td>51.98</td>\n      <td>89.15</td>\n      <td>58.150</td>\n    </tr>\n  </tbody>\n</table>\n<p>228 rows × 5 columns</p>\n</div>"
     },
     "metadata": {},
     "execution_count": 33
    }
   ],
   "source": [
    "df = vtiPrice.rename(columns={\"close\":\"VTI_ClosePrice\"}).merge(vxusPrice.rename(columns={\"close\":\"VXUS_ClosePrice\"}),on='date',how='outer').merge(bndPrice.rename(columns={\"close\":\"BND_ClosePrice\"}),on='date',how='outer').merge(bndxPrice.rename(columns={\"close\":\"BNDX_ClosePrice\"}),on='date',how='outer')\n",
    "df"
   ]
  },
  {
   "cell_type": "code",
   "execution_count": 16,
   "metadata": {},
   "outputs": [
    {
     "output_type": "execute_result",
     "data": {
      "text/plain": "           date  close\n0    2016-07-01  84.37\n1    2016-07-05  84.66\n2    2016-07-06  84.81\n3    2016-07-07  84.67\n4    2016-07-08  84.89\n..          ...    ...\n876  2019-12-24  83.78\n877  2019-12-26  83.86\n878  2019-12-27  83.98\n879  2019-12-30  83.95\n880  2019-12-31  83.86\n\n[881 rows x 2 columns]",
      "text/html": "<div>\n<style scoped>\n    .dataframe tbody tr th:only-of-type {\n        vertical-align: middle;\n    }\n\n    .dataframe tbody tr th {\n        vertical-align: top;\n    }\n\n    .dataframe thead th {\n        text-align: right;\n    }\n</style>\n<table border=\"1\" class=\"dataframe\">\n  <thead>\n    <tr style=\"text-align: right;\">\n      <th></th>\n      <th>date</th>\n      <th>close</th>\n    </tr>\n  </thead>\n  <tbody>\n    <tr>\n      <th>0</th>\n      <td>2016-07-01</td>\n      <td>84.37</td>\n    </tr>\n    <tr>\n      <th>1</th>\n      <td>2016-07-05</td>\n      <td>84.66</td>\n    </tr>\n    <tr>\n      <th>2</th>\n      <td>2016-07-06</td>\n      <td>84.81</td>\n    </tr>\n    <tr>\n      <th>3</th>\n      <td>2016-07-07</td>\n      <td>84.67</td>\n    </tr>\n    <tr>\n      <th>4</th>\n      <td>2016-07-08</td>\n      <td>84.89</td>\n    </tr>\n    <tr>\n      <th>...</th>\n      <td>...</td>\n      <td>...</td>\n    </tr>\n    <tr>\n      <th>876</th>\n      <td>2019-12-24</td>\n      <td>83.78</td>\n    </tr>\n    <tr>\n      <th>877</th>\n      <td>2019-12-26</td>\n      <td>83.86</td>\n    </tr>\n    <tr>\n      <th>878</th>\n      <td>2019-12-27</td>\n      <td>83.98</td>\n    </tr>\n    <tr>\n      <th>879</th>\n      <td>2019-12-30</td>\n      <td>83.95</td>\n    </tr>\n    <tr>\n      <th>880</th>\n      <td>2019-12-31</td>\n      <td>83.86</td>\n    </tr>\n  </tbody>\n</table>\n<p>881 rows × 2 columns</p>\n</div>"
     },
     "metadata": {},
     "execution_count": 16
    }
   ],
   "source": [
    "vtiPrice"
   ]
  },
  {
   "cell_type": "code",
   "execution_count": 13,
   "metadata": {},
   "outputs": [],
   "source": [
    "# Enter in total amount you would like to invest under amountInvested \n",
    "amountInvested = 12000"
   ]
  },
  {
   "cell_type": "code",
   "execution_count": 14,
   "metadata": {},
   "outputs": [
    {
     "output_type": "stream",
     "name": "stdout",
     "text": "VTI, VXUS, BND, BNDX\n[26. 63. 34. 41.]\n"
    }
   ],
   "source": [
    "# GENERATING MARKET PORTFOLIO\n",
    "# format [U.S. Stocks, International Stocks, U.S. Bonds, International Bonds] (in billions for market cap)\n",
    "EOQmarketcaps = np.array(etfEOQmarketcaps)\n",
    "EOQprices = np.array(etfEOQprices)\n",
    "recentPrices = np.asarray(etfRecentPrices)\n",
    "# Market proportions for each etf on end of quarter\n",
    "EOQproportions = EOQmarketcaps/sum(EOQmarketcaps)\n",
    "# Ratio of recent prices and end of quarter prices\n",
    "priceRatios = recentPrices / EOQprices\n",
    "# Multiply ratios to market proportions\n",
    "products = EOQproportions * priceRatios\n",
    "# Market weights if fractional shares existed\n",
    "revisedProportions = products / sum(products)\n",
    "# Amount of money invested in each etf if fractional shares existed\n",
    "desiredValues = revisedProportions * amountInvested\n",
    "# Number of shares of etfs to buy if fractional shares existed\n",
    "currentPrices = np.array(etfCurrPrices(['VTI', 'VXUS', 'BND', 'BNDX']))\n",
    "shares = desiredValues/currentPrices\n",
    "# Optimize to get as close to 0 since fractional shares with Schwab doesn't exist\n",
    "def asdf(a):\n",
    "    return amountInvested - sum(np.round(shares * a)*currentPrices)\n",
    "a = .90\n",
    "while asdf(a) > 0:\n",
    "    if a <.99999:\n",
    "        a+=.00001\n",
    "    else:\n",
    "        break\n",
    "    if asdf(a) < 0:\n",
    "        a-=.00001\n",
    "        break\n",
    "# Actual shares of each etf to buy\n",
    "actualShares = np.round(shares * a)\n",
    "print('VTI, VXUS, BND, BNDX')\n",
    "print(actualShares)"
   ]
  },
  {
   "cell_type": "code",
   "execution_count": 15,
   "metadata": {},
   "outputs": [
    {
     "output_type": "stream",
     "name": "stdout",
     "text": "Theoretical proportions\n[0.32022161 0.23760532 0.24689227 0.19528079]\nActual proportions\n[0.31855103 0.23872327 0.24735598 0.19536972]\n"
    }
   ],
   "source": [
    "actualProportions = (actualShares * currentPrices)/sum(actualShares * currentPrices)\n",
    "print('Theoretical proportions')\n",
    "print(revisedProportions)\n",
    "print('Actual proportions')\n",
    "print(actualProportions)"
   ]
  },
  {
   "cell_type": "code",
   "execution_count": 16,
   "metadata": {},
   "outputs": [
    {
     "output_type": "stream",
     "name": "stdout",
     "text": "0.29\n"
    }
   ],
   "source": [
    "# Cash left over. You can invest this cash into VTIP (Vanguard's US TIPS ETF) or something else if you'd like.\n",
    "cash = amountInvested - sum((actualShares * currentPrices))\n",
    "print(np.round(cash,2))"
   ]
  },
  {
   "cell_type": "code",
   "execution_count": 17,
   "metadata": {},
   "outputs": [
    {
     "output_type": "stream",
     "name": "stdout",
     "text": "6.352818000000001\n"
    }
   ],
   "source": [
    "# How much it costs to maintain portfolio per year\n",
    "costs = [.0003,.0008,.00035,.0008]\n",
    "print(sum((actualShares * currentPrices)*costs))"
   ]
  },
  {
   "cell_type": "code",
   "execution_count": 12,
   "metadata": {},
   "outputs": [
    {
     "output_type": "execute_result",
     "data": {
      "text/plain": "array([147.02,  45.47,  87.3 ,  57.18])"
     },
     "metadata": {},
     "execution_count": 12
    }
   ],
   "source": [
    "currentPrices"
   ]
  },
  {
   "cell_type": "code",
   "execution_count": null,
   "metadata": {},
   "outputs": [],
   "source": [
    "# REBALANCE (run this cell if you already have money invested in the market portfolio)\n",
    "# Enter in number of shares here in current port in the format of VTI, VXUS, BND, BNDX\n",
    "currentPort = np.array([12.0588,27.0695,16.0667,21.0345])\n",
    "trades = actualShares - currentPort\n",
    "# Amount left for trades\n",
    "amountInvestable = amountInvested - sum(currentPort * currentPrices)\n",
    "# Need to make sure trades don't make balance go over amount of money available\n",
    "def asdf(a):\n",
    "    return amountInvestable - sum(np.round(trades * a)*currentPrices)\n",
    "a = .90\n",
    "while asdf(a) > 0:\n",
    "    if a <.99999:\n",
    "        a+=.00001\n",
    "    else:\n",
    "        break\n",
    "    if asdf(a) < 0:\n",
    "        a-=.00001\n",
    "        break\n",
    "actualTrades = np.round(trades * a)\n",
    "print('Trades: VTI, VXUS, BND, BNDX')\n",
    "print(actualTrades)\n",
    "print()\n",
    "print('Cash left over')\n",
    "print(asdf(a))"
   ]
  },
  {
   "cell_type": "code",
   "execution_count": null,
   "metadata": {},
   "outputs": [],
   "source": [
    "portAfterTrades = currentPort + actualTrades\n",
    "print('Theoretical proportions')\n",
    "print(revisedProportions)\n",
    "print()\n",
    "print('Actual proportions after rebalance')\n",
    "print((portAfterTrades * currentPrices)/sum(portAfterTrades * currentPrices))"
   ]
  },
  {
   "cell_type": "code",
   "execution_count": null,
   "metadata": {},
   "outputs": [],
   "source": []
  }
 ],
 "metadata": {
  "kernelspec": {
   "display_name": "Python 3.8.3 64-bit ('investmentresearch': conda)",
   "language": "python",
   "name": "python_defaultSpec_1595985916769"
  },
  "language_info": {
   "codemirror_mode": {
    "name": "ipython",
    "version": 3
   },
   "file_extension": ".py",
   "mimetype": "text/x-python",
   "name": "python",
   "nbconvert_exporter": "python",
   "pygments_lexer": "ipython3",
   "version": "3.8.3-final"
  }
 },
 "nbformat": 4,
 "nbformat_minor": 4
}