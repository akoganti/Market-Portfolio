{
 "cells": [
  {
   "cell_type": "code",
   "execution_count": 118,
   "metadata": {},
   "outputs": [],
   "source": [
    "import numpy as np\n",
    "import pandas as pd\n",
    "from datetime import datetime,date\n",
    "# Saved Tiingo API Token in 'token' variable in apiToken.py file\n",
    "from apiToken import token"
   ]
  },
  {
   "cell_type": "code",
   "execution_count": 141,
   "metadata": {
    "tags": []
   },
   "outputs": [],
   "source": [
    "# Getting prices from Tiingo\n",
    "def getPrice(token,ticker,startDate,endDate):\n",
    "    return pd.read_csv('https://api.tiingo.com/tiingo/daily/'+ticker+'/prices?startDate='+startDate+'&endDate='+endDate+'&token='+token+'&format=csv')\n",
    "today = str(date.today())\n",
    "bndPrice = getPrice(token,'bnd','2019-08-29',today)\n",
    "bndxPrice = getPrice(token,'bndx','2019-08-30',today)\n",
    "vtiPrice = getPrice(token,'vti','2019-08-30',today)\n",
    "vxusPrice = getPrice(token,'vxus','2019-08-30',today)\n",
    "vtiPrice['returns'] = (vtiPrice.close+vtiPrice.divCash)/vtiPrice.close.shift(1) - 1\n",
    "vxusPrice['returns'] = (vxusPrice.close+vxusPrice.divCash)/vxusPrice.close.shift(1) - 1\n",
    "bndPrice['returns'] = (bndPrice.close+bndPrice.divCash)/bndPrice.close.shift(1) - 1\n",
    "bndxPrice['returns'] = (bndxPrice.close+bndxPrice.divCash)/bndxPrice.close.shift(1) - 1\n",
    "bndPrice = bndPrice.loc[:,['date','returns']]\n",
    "bndxPrice = bndxPrice.loc[:,['date','returns']]\n",
    "vtiPrice = vtiPrice.loc[:,['date','returns']]\n",
    "vxusPrice = vxusPrice.loc[:,['date','returns']]"
   ]
  },
  {
   "cell_type": "code",
   "execution_count": 153,
   "metadata": {},
   "outputs": [
    {
     "output_type": "execute_result",
     "data": {
      "text/plain": "           date  close   high    low     open   volume   adjClose    adjHigh  \\\n0    2019-08-29  85.11  85.12  84.95  85.1200  2812400  83.023376  83.033131   \n1    2019-08-30  85.10  85.17  85.00  85.0300  2861800  83.013621  83.081905   \n2    2019-09-03  84.99  85.18  84.84  84.9800  3345800  83.089902  83.275654   \n3    2019-09-04  85.15  85.16  84.95  84.9700  2864100  83.246325  83.256101   \n4    2019-09-05  84.71  84.90  84.58  84.8500  3162800  82.816162  83.001914   \n..          ...    ...    ...    ...      ...      ...        ...        ...   \n231  2020-07-30  89.34  89.37  89.30  89.3200  2621231  89.181418  89.211364   \n232  2020-07-31  89.46  89.47  89.27  89.3485  5110509  89.301205  89.311187   \n233  2020-08-03  89.27  89.33  89.17  89.3200  6270005  89.270000  89.330000   \n234  2020-08-04  89.46  89.46  89.35  89.3700  5325101  89.460000  89.460000   \n235  2020-08-05  89.34  89.39  89.28  89.3700  4931693  89.340000  89.390000   \n\n        adjLow    adjOpen  adjVolume   divCash  splitFactor  \n0    82.867299  83.033131    2812400  0.000000          1.0  \n1    82.916073  82.945337    2861800  0.000000          1.0  \n2    82.943256  83.080126    3345800  0.188198          1.0  \n3    83.050796  83.070349    2864100  0.000000          1.0  \n4    82.689068  82.953032    3162800  0.000000          1.0  \n..         ...        ...        ...       ...          ...  \n231  89.141489  89.161453    2621231  0.000000          1.0  \n232  89.111542  89.189902    5110509  0.000000          1.0  \n233  89.170000  89.320000    6270005  0.158740          1.0  \n234  89.350000  89.370000    5325101  0.000000          1.0  \n235  89.280000  89.370000    4931693  0.000000          1.0  \n\n[236 rows x 13 columns]",
      "text/html": "<div>\n<style scoped>\n    .dataframe tbody tr th:only-of-type {\n        vertical-align: middle;\n    }\n\n    .dataframe tbody tr th {\n        vertical-align: top;\n    }\n\n    .dataframe thead th {\n        text-align: right;\n    }\n</style>\n<table border=\"1\" class=\"dataframe\">\n  <thead>\n    <tr style=\"text-align: right;\">\n      <th></th>\n      <th>date</th>\n      <th>close</th>\n      <th>high</th>\n      <th>low</th>\n      <th>open</th>\n      <th>volume</th>\n      <th>adjClose</th>\n      <th>adjHigh</th>\n      <th>adjLow</th>\n      <th>adjOpen</th>\n      <th>adjVolume</th>\n      <th>divCash</th>\n      <th>splitFactor</th>\n    </tr>\n  </thead>\n  <tbody>\n    <tr>\n      <th>0</th>\n      <td>2019-08-29</td>\n      <td>85.11</td>\n      <td>85.12</td>\n      <td>84.95</td>\n      <td>85.1200</td>\n      <td>2812400</td>\n      <td>83.023376</td>\n      <td>83.033131</td>\n      <td>82.867299</td>\n      <td>83.033131</td>\n      <td>2812400</td>\n      <td>0.000000</td>\n      <td>1.0</td>\n    </tr>\n    <tr>\n      <th>1</th>\n      <td>2019-08-30</td>\n      <td>85.10</td>\n      <td>85.17</td>\n      <td>85.00</td>\n      <td>85.0300</td>\n      <td>2861800</td>\n      <td>83.013621</td>\n      <td>83.081905</td>\n      <td>82.916073</td>\n      <td>82.945337</td>\n      <td>2861800</td>\n      <td>0.000000</td>\n      <td>1.0</td>\n    </tr>\n    <tr>\n      <th>2</th>\n      <td>2019-09-03</td>\n      <td>84.99</td>\n      <td>85.18</td>\n      <td>84.84</td>\n      <td>84.9800</td>\n      <td>3345800</td>\n      <td>83.089902</td>\n      <td>83.275654</td>\n      <td>82.943256</td>\n      <td>83.080126</td>\n      <td>3345800</td>\n      <td>0.188198</td>\n      <td>1.0</td>\n    </tr>\n    <tr>\n      <th>3</th>\n      <td>2019-09-04</td>\n      <td>85.15</td>\n      <td>85.16</td>\n      <td>84.95</td>\n      <td>84.9700</td>\n      <td>2864100</td>\n      <td>83.246325</td>\n      <td>83.256101</td>\n      <td>83.050796</td>\n      <td>83.070349</td>\n      <td>2864100</td>\n      <td>0.000000</td>\n      <td>1.0</td>\n    </tr>\n    <tr>\n      <th>4</th>\n      <td>2019-09-05</td>\n      <td>84.71</td>\n      <td>84.90</td>\n      <td>84.58</td>\n      <td>84.8500</td>\n      <td>3162800</td>\n      <td>82.816162</td>\n      <td>83.001914</td>\n      <td>82.689068</td>\n      <td>82.953032</td>\n      <td>3162800</td>\n      <td>0.000000</td>\n      <td>1.0</td>\n    </tr>\n    <tr>\n      <th>...</th>\n      <td>...</td>\n      <td>...</td>\n      <td>...</td>\n      <td>...</td>\n      <td>...</td>\n      <td>...</td>\n      <td>...</td>\n      <td>...</td>\n      <td>...</td>\n      <td>...</td>\n      <td>...</td>\n      <td>...</td>\n      <td>...</td>\n    </tr>\n    <tr>\n      <th>231</th>\n      <td>2020-07-30</td>\n      <td>89.34</td>\n      <td>89.37</td>\n      <td>89.30</td>\n      <td>89.3200</td>\n      <td>2621231</td>\n      <td>89.181418</td>\n      <td>89.211364</td>\n      <td>89.141489</td>\n      <td>89.161453</td>\n      <td>2621231</td>\n      <td>0.000000</td>\n      <td>1.0</td>\n    </tr>\n    <tr>\n      <th>232</th>\n      <td>2020-07-31</td>\n      <td>89.46</td>\n      <td>89.47</td>\n      <td>89.27</td>\n      <td>89.3485</td>\n      <td>5110509</td>\n      <td>89.301205</td>\n      <td>89.311187</td>\n      <td>89.111542</td>\n      <td>89.189902</td>\n      <td>5110509</td>\n      <td>0.000000</td>\n      <td>1.0</td>\n    </tr>\n    <tr>\n      <th>233</th>\n      <td>2020-08-03</td>\n      <td>89.27</td>\n      <td>89.33</td>\n      <td>89.17</td>\n      <td>89.3200</td>\n      <td>6270005</td>\n      <td>89.270000</td>\n      <td>89.330000</td>\n      <td>89.170000</td>\n      <td>89.320000</td>\n      <td>6270005</td>\n      <td>0.158740</td>\n      <td>1.0</td>\n    </tr>\n    <tr>\n      <th>234</th>\n      <td>2020-08-04</td>\n      <td>89.46</td>\n      <td>89.46</td>\n      <td>89.35</td>\n      <td>89.3700</td>\n      <td>5325101</td>\n      <td>89.460000</td>\n      <td>89.460000</td>\n      <td>89.350000</td>\n      <td>89.370000</td>\n      <td>5325101</td>\n      <td>0.000000</td>\n      <td>1.0</td>\n    </tr>\n    <tr>\n      <th>235</th>\n      <td>2020-08-05</td>\n      <td>89.34</td>\n      <td>89.39</td>\n      <td>89.28</td>\n      <td>89.3700</td>\n      <td>4931693</td>\n      <td>89.340000</td>\n      <td>89.390000</td>\n      <td>89.280000</td>\n      <td>89.370000</td>\n      <td>4931693</td>\n      <td>0.000000</td>\n      <td>1.0</td>\n    </tr>\n  </tbody>\n</table>\n<p>236 rows × 13 columns</p>\n</div>"
     },
     "metadata": {},
     "execution_count": 153
    }
   ],
   "source": [
    "getPrice(token,'bnd','2019-08-29',today)"
   ]
  },
  {
   "cell_type": "code",
   "execution_count": 142,
   "metadata": {},
   "outputs": [],
   "source": [
    "# Reading saved data (Market cap is in billions)\n",
    "vti = pd.read_csv('Data/vti_MC_Data.csv')\n",
    "vxus = pd.read_csv('Data/vxus_MC_Data.csv')\n",
    "bnd = pd.read_csv('Data/bnd_MC_Data.csv')\n",
    "bndx = pd.read_csv('Data/bndx_MC_Data.csv')"
   ]
  },
  {
   "cell_type": "code",
   "execution_count": 149,
   "metadata": {
    "tags": []
   },
   "outputs": [
    {
     "output_type": "execute_result",
     "data": {
      "text/plain": "          date  VTI_Return  VXUS_Return  BND_Return  BNDX_Return  \\\n0   2012-03-30         NaN          NaN         NaN          NaN   \n1   2012-06-29         NaN          NaN         NaN          NaN   \n2   2012-09-28         NaN          NaN         NaN          NaN   \n3   2012-12-31         NaN          NaN         NaN          NaN   \n4   2013-03-28         NaN          NaN         NaN          NaN   \n..         ...         ...          ...         ...          ...   \n95  2019-11-29   -0.004479    -0.008817    0.000000    -0.001716   \n96  2019-11-30         NaN          NaN         NaN          NaN   \n97  2019-12-02   -0.009061    -0.004077   -0.002610    -0.002581   \n98  2019-12-03   -0.005928    -0.003349    0.005364     0.003106   \n99  2019-12-04    0.006471     0.008588   -0.002016    -0.001376   \n\n    VTI_MarketCap  VXUS_MarketCap  BND_MarketCap  BNDX_MarketCap  \n0       15480.583             NaN            NaN             NaN  \n1       14909.819             NaN            NaN             NaN  \n2       15550.575             NaN            NaN             NaN  \n3       15758.775             NaN            NaN             NaN  \n4       17365.598             NaN            NaN             NaN  \n..            ...             ...            ...             ...  \n95            NaN       24591.817            NaN             NaN  \n96            NaN             NaN       22522.29        19350.73  \n97            NaN             NaN            NaN             NaN  \n98            NaN             NaN            NaN             NaN  \n99            NaN             NaN            NaN             NaN  \n\n[100 rows x 9 columns]",
      "text/html": "<div>\n<style scoped>\n    .dataframe tbody tr th:only-of-type {\n        vertical-align: middle;\n    }\n\n    .dataframe tbody tr th {\n        vertical-align: top;\n    }\n\n    .dataframe thead th {\n        text-align: right;\n    }\n</style>\n<table border=\"1\" class=\"dataframe\">\n  <thead>\n    <tr style=\"text-align: right;\">\n      <th></th>\n      <th>date</th>\n      <th>VTI_Return</th>\n      <th>VXUS_Return</th>\n      <th>BND_Return</th>\n      <th>BNDX_Return</th>\n      <th>VTI_MarketCap</th>\n      <th>VXUS_MarketCap</th>\n      <th>BND_MarketCap</th>\n      <th>BNDX_MarketCap</th>\n    </tr>\n  </thead>\n  <tbody>\n    <tr>\n      <th>0</th>\n      <td>2012-03-30</td>\n      <td>NaN</td>\n      <td>NaN</td>\n      <td>NaN</td>\n      <td>NaN</td>\n      <td>15480.583</td>\n      <td>NaN</td>\n      <td>NaN</td>\n      <td>NaN</td>\n    </tr>\n    <tr>\n      <th>1</th>\n      <td>2012-06-29</td>\n      <td>NaN</td>\n      <td>NaN</td>\n      <td>NaN</td>\n      <td>NaN</td>\n      <td>14909.819</td>\n      <td>NaN</td>\n      <td>NaN</td>\n      <td>NaN</td>\n    </tr>\n    <tr>\n      <th>2</th>\n      <td>2012-09-28</td>\n      <td>NaN</td>\n      <td>NaN</td>\n      <td>NaN</td>\n      <td>NaN</td>\n      <td>15550.575</td>\n      <td>NaN</td>\n      <td>NaN</td>\n      <td>NaN</td>\n    </tr>\n    <tr>\n      <th>3</th>\n      <td>2012-12-31</td>\n      <td>NaN</td>\n      <td>NaN</td>\n      <td>NaN</td>\n      <td>NaN</td>\n      <td>15758.775</td>\n      <td>NaN</td>\n      <td>NaN</td>\n      <td>NaN</td>\n    </tr>\n    <tr>\n      <th>4</th>\n      <td>2013-03-28</td>\n      <td>NaN</td>\n      <td>NaN</td>\n      <td>NaN</td>\n      <td>NaN</td>\n      <td>17365.598</td>\n      <td>NaN</td>\n      <td>NaN</td>\n      <td>NaN</td>\n    </tr>\n    <tr>\n      <th>...</th>\n      <td>...</td>\n      <td>...</td>\n      <td>...</td>\n      <td>...</td>\n      <td>...</td>\n      <td>...</td>\n      <td>...</td>\n      <td>...</td>\n      <td>...</td>\n    </tr>\n    <tr>\n      <th>95</th>\n      <td>2019-11-29</td>\n      <td>-0.004479</td>\n      <td>-0.008817</td>\n      <td>0.000000</td>\n      <td>-0.001716</td>\n      <td>NaN</td>\n      <td>24591.817</td>\n      <td>NaN</td>\n      <td>NaN</td>\n    </tr>\n    <tr>\n      <th>96</th>\n      <td>2019-11-30</td>\n      <td>NaN</td>\n      <td>NaN</td>\n      <td>NaN</td>\n      <td>NaN</td>\n      <td>NaN</td>\n      <td>NaN</td>\n      <td>22522.29</td>\n      <td>19350.73</td>\n    </tr>\n    <tr>\n      <th>97</th>\n      <td>2019-12-02</td>\n      <td>-0.009061</td>\n      <td>-0.004077</td>\n      <td>-0.002610</td>\n      <td>-0.002581</td>\n      <td>NaN</td>\n      <td>NaN</td>\n      <td>NaN</td>\n      <td>NaN</td>\n    </tr>\n    <tr>\n      <th>98</th>\n      <td>2019-12-03</td>\n      <td>-0.005928</td>\n      <td>-0.003349</td>\n      <td>0.005364</td>\n      <td>0.003106</td>\n      <td>NaN</td>\n      <td>NaN</td>\n      <td>NaN</td>\n      <td>NaN</td>\n    </tr>\n    <tr>\n      <th>99</th>\n      <td>2019-12-04</td>\n      <td>0.006471</td>\n      <td>0.008588</td>\n      <td>-0.002016</td>\n      <td>-0.001376</td>\n      <td>NaN</td>\n      <td>NaN</td>\n      <td>NaN</td>\n      <td>NaN</td>\n    </tr>\n  </tbody>\n</table>\n<p>100 rows × 9 columns</p>\n</div>"
     },
     "metadata": {},
     "execution_count": 149
    }
   ],
   "source": [
    "df = vtiPrice.rename(columns={\"returns\":\"VTI_Return\"}).merge(vxusPrice.rename(columns={\"returns\":\"VXUS_Return\"}),on='date',how='outer').merge(bndPrice.rename(columns={\"returns\":\"BND_Return\"}),on='date',how='outer').merge(bndxPrice.rename(columns={\"returns\":\"BNDX_Return\"}),on='date',how='outer').merge(vti.rename(columns={\"Market Cap\":\"VTI_MarketCap\"}),on='date',how='outer').merge(vxus.rename(columns={\"Market Cap\":\"VXUS_MarketCap\"}),on='date',how='outer').merge(bnd.rename(columns={\"Market Cap\":\"BND_MarketCap\"}),on='date',how='outer').merge(bndx.rename(columns={\"Market Cap\":\"BNDX_MarketCap\"}),on='date',how='outer').sort_values(by='date').reset_index(drop=True)\n",
    "df.head(100)"
   ]
  },
  {
   "cell_type": "code",
   "execution_count": 152,
   "metadata": {},
   "outputs": [
    {
     "output_type": "execute_result",
     "data": {
      "text/plain": "           date  VTI_Return  VXUS_Return  BND_Return  BNDX_Return  \\\n0    2012-03-30         NaN          NaN         NaN          NaN   \n1    2012-06-29         NaN          NaN         NaN          NaN   \n2    2012-09-28         NaN          NaN         NaN          NaN   \n3    2012-12-31         NaN          NaN         NaN          NaN   \n4    2013-03-28         NaN          NaN         NaN          NaN   \n5    2013-06-28         NaN          NaN         NaN          NaN   \n6    2013-09-30         NaN          NaN         NaN          NaN   \n7    2013-12-31         NaN          NaN         NaN          NaN   \n8    2014-03-31         NaN          NaN         NaN          NaN   \n9    2014-06-30         NaN          NaN         NaN          NaN   \n10   2014-09-30         NaN          NaN         NaN          NaN   \n11   2014-12-31         NaN          NaN         NaN          NaN   \n12   2015-03-31         NaN          NaN         NaN          NaN   \n13   2015-06-30         NaN          NaN         NaN          NaN   \n14   2015-09-30         NaN          NaN         NaN          NaN   \n15   2015-12-31         NaN          NaN         NaN          NaN   \n16   2016-03-31         NaN          NaN         NaN          NaN   \n17   2016-06-30         NaN          NaN         NaN          NaN   \n18   2016-09-30         NaN          NaN         NaN          NaN   \n19   2016-12-30         NaN          NaN         NaN          NaN   \n20   2017-03-31         NaN          NaN         NaN          NaN   \n21   2017-06-30         NaN          NaN         NaN          NaN   \n22   2017-09-29         NaN          NaN         NaN          NaN   \n23   2017-12-29         NaN          NaN         NaN          NaN   \n24   2018-03-29         NaN          NaN         NaN          NaN   \n25   2018-06-29         NaN          NaN         NaN          NaN   \n26   2018-09-28         NaN          NaN         NaN          NaN   \n27   2018-12-31         NaN          NaN         NaN          NaN   \n28   2019-03-29         NaN          NaN         NaN          NaN   \n29   2019-06-28         NaN          NaN         NaN          NaN   \n30   2019-08-29         NaN          NaN         NaN          NaN   \n31   2019-08-30         NaN          NaN   -0.000117          NaN   \n32   2019-08-31         NaN          NaN         NaN          NaN   \n96   2019-11-30         NaN          NaN         NaN          NaN   \n158  2020-02-29         NaN          NaN         NaN          NaN   \n222  2020-05-31         NaN          NaN         NaN          NaN   \n\n     VTI_MarketCap  VXUS_MarketCap  BND_MarketCap  BNDX_MarketCap  \n0        15480.583             NaN            NaN             NaN  \n1        14909.819             NaN            NaN             NaN  \n2        15550.575             NaN            NaN             NaN  \n3        15758.775             NaN            NaN             NaN  \n4        17365.598             NaN            NaN             NaN  \n5        17758.412             NaN            NaN             NaN  \n6        18717.768             NaN            NaN             NaN  \n7        20490.353             NaN            NaN             NaN  \n8        20841.552             NaN            NaN             NaN  \n9        21754.118             NaN            NaN             NaN  \n10       21603.629             NaN            NaN             NaN  \n11       22589.901             NaN            NaN             NaN  \n12       22791.306             NaN            NaN             NaN  \n13       22589.334             NaN            NaN             NaN  \n14       20729.567             NaN            NaN             NaN  \n15       21728.756             NaN            NaN             NaN  \n16       21619.135             NaN            NaN             NaN  \n17       21954.755             NaN            NaN             NaN  \n18       22681.113             NaN            NaN             NaN  \n19       23417.755             NaN            NaN             NaN  \n20       24541.947             NaN            NaN             NaN  \n21       25089.806             NaN            NaN             NaN  \n22       25999.436             NaN            NaN             NaN  \n23       27452.976             NaN            NaN             NaN  \n24       27139.040             NaN            NaN             NaN  \n25       27900.058             NaN            NaN             NaN  \n26       29653.118             NaN            NaN             NaN  \n27       25089.028             NaN            NaN             NaN  \n28       28331.596             NaN            NaN             NaN  \n29       29290.038             NaN            NaN             NaN  \n30             NaN             NaN            NaN             NaN  \n31             NaN             NaN            NaN             NaN  \n32             NaN             NaN       22500.24        19781.04  \n96             NaN             NaN       22522.29        19350.73  \n158            NaN             NaN       23470.13        20046.61  \n222            NaN             NaN       23080.94        20431.91  ",
      "text/html": "<div>\n<style scoped>\n    .dataframe tbody tr th:only-of-type {\n        vertical-align: middle;\n    }\n\n    .dataframe tbody tr th {\n        vertical-align: top;\n    }\n\n    .dataframe thead th {\n        text-align: right;\n    }\n</style>\n<table border=\"1\" class=\"dataframe\">\n  <thead>\n    <tr style=\"text-align: right;\">\n      <th></th>\n      <th>date</th>\n      <th>VTI_Return</th>\n      <th>VXUS_Return</th>\n      <th>BND_Return</th>\n      <th>BNDX_Return</th>\n      <th>VTI_MarketCap</th>\n      <th>VXUS_MarketCap</th>\n      <th>BND_MarketCap</th>\n      <th>BNDX_MarketCap</th>\n    </tr>\n  </thead>\n  <tbody>\n    <tr>\n      <th>0</th>\n      <td>2012-03-30</td>\n      <td>NaN</td>\n      <td>NaN</td>\n      <td>NaN</td>\n      <td>NaN</td>\n      <td>15480.583</td>\n      <td>NaN</td>\n      <td>NaN</td>\n      <td>NaN</td>\n    </tr>\n    <tr>\n      <th>1</th>\n      <td>2012-06-29</td>\n      <td>NaN</td>\n      <td>NaN</td>\n      <td>NaN</td>\n      <td>NaN</td>\n      <td>14909.819</td>\n      <td>NaN</td>\n      <td>NaN</td>\n      <td>NaN</td>\n    </tr>\n    <tr>\n      <th>2</th>\n      <td>2012-09-28</td>\n      <td>NaN</td>\n      <td>NaN</td>\n      <td>NaN</td>\n      <td>NaN</td>\n      <td>15550.575</td>\n      <td>NaN</td>\n      <td>NaN</td>\n      <td>NaN</td>\n    </tr>\n    <tr>\n      <th>3</th>\n      <td>2012-12-31</td>\n      <td>NaN</td>\n      <td>NaN</td>\n      <td>NaN</td>\n      <td>NaN</td>\n      <td>15758.775</td>\n      <td>NaN</td>\n      <td>NaN</td>\n      <td>NaN</td>\n    </tr>\n    <tr>\n      <th>4</th>\n      <td>2013-03-28</td>\n      <td>NaN</td>\n      <td>NaN</td>\n      <td>NaN</td>\n      <td>NaN</td>\n      <td>17365.598</td>\n      <td>NaN</td>\n      <td>NaN</td>\n      <td>NaN</td>\n    </tr>\n    <tr>\n      <th>5</th>\n      <td>2013-06-28</td>\n      <td>NaN</td>\n      <td>NaN</td>\n      <td>NaN</td>\n      <td>NaN</td>\n      <td>17758.412</td>\n      <td>NaN</td>\n      <td>NaN</td>\n      <td>NaN</td>\n    </tr>\n    <tr>\n      <th>6</th>\n      <td>2013-09-30</td>\n      <td>NaN</td>\n      <td>NaN</td>\n      <td>NaN</td>\n      <td>NaN</td>\n      <td>18717.768</td>\n      <td>NaN</td>\n      <td>NaN</td>\n      <td>NaN</td>\n    </tr>\n    <tr>\n      <th>7</th>\n      <td>2013-12-31</td>\n      <td>NaN</td>\n      <td>NaN</td>\n      <td>NaN</td>\n      <td>NaN</td>\n      <td>20490.353</td>\n      <td>NaN</td>\n      <td>NaN</td>\n      <td>NaN</td>\n    </tr>\n    <tr>\n      <th>8</th>\n      <td>2014-03-31</td>\n      <td>NaN</td>\n      <td>NaN</td>\n      <td>NaN</td>\n      <td>NaN</td>\n      <td>20841.552</td>\n      <td>NaN</td>\n      <td>NaN</td>\n      <td>NaN</td>\n    </tr>\n    <tr>\n      <th>9</th>\n      <td>2014-06-30</td>\n      <td>NaN</td>\n      <td>NaN</td>\n      <td>NaN</td>\n      <td>NaN</td>\n      <td>21754.118</td>\n      <td>NaN</td>\n      <td>NaN</td>\n      <td>NaN</td>\n    </tr>\n    <tr>\n      <th>10</th>\n      <td>2014-09-30</td>\n      <td>NaN</td>\n      <td>NaN</td>\n      <td>NaN</td>\n      <td>NaN</td>\n      <td>21603.629</td>\n      <td>NaN</td>\n      <td>NaN</td>\n      <td>NaN</td>\n    </tr>\n    <tr>\n      <th>11</th>\n      <td>2014-12-31</td>\n      <td>NaN</td>\n      <td>NaN</td>\n      <td>NaN</td>\n      <td>NaN</td>\n      <td>22589.901</td>\n      <td>NaN</td>\n      <td>NaN</td>\n      <td>NaN</td>\n    </tr>\n    <tr>\n      <th>12</th>\n      <td>2015-03-31</td>\n      <td>NaN</td>\n      <td>NaN</td>\n      <td>NaN</td>\n      <td>NaN</td>\n      <td>22791.306</td>\n      <td>NaN</td>\n      <td>NaN</td>\n      <td>NaN</td>\n    </tr>\n    <tr>\n      <th>13</th>\n      <td>2015-06-30</td>\n      <td>NaN</td>\n      <td>NaN</td>\n      <td>NaN</td>\n      <td>NaN</td>\n      <td>22589.334</td>\n      <td>NaN</td>\n      <td>NaN</td>\n      <td>NaN</td>\n    </tr>\n    <tr>\n      <th>14</th>\n      <td>2015-09-30</td>\n      <td>NaN</td>\n      <td>NaN</td>\n      <td>NaN</td>\n      <td>NaN</td>\n      <td>20729.567</td>\n      <td>NaN</td>\n      <td>NaN</td>\n      <td>NaN</td>\n    </tr>\n    <tr>\n      <th>15</th>\n      <td>2015-12-31</td>\n      <td>NaN</td>\n      <td>NaN</td>\n      <td>NaN</td>\n      <td>NaN</td>\n      <td>21728.756</td>\n      <td>NaN</td>\n      <td>NaN</td>\n      <td>NaN</td>\n    </tr>\n    <tr>\n      <th>16</th>\n      <td>2016-03-31</td>\n      <td>NaN</td>\n      <td>NaN</td>\n      <td>NaN</td>\n      <td>NaN</td>\n      <td>21619.135</td>\n      <td>NaN</td>\n      <td>NaN</td>\n      <td>NaN</td>\n    </tr>\n    <tr>\n      <th>17</th>\n      <td>2016-06-30</td>\n      <td>NaN</td>\n      <td>NaN</td>\n      <td>NaN</td>\n      <td>NaN</td>\n      <td>21954.755</td>\n      <td>NaN</td>\n      <td>NaN</td>\n      <td>NaN</td>\n    </tr>\n    <tr>\n      <th>18</th>\n      <td>2016-09-30</td>\n      <td>NaN</td>\n      <td>NaN</td>\n      <td>NaN</td>\n      <td>NaN</td>\n      <td>22681.113</td>\n      <td>NaN</td>\n      <td>NaN</td>\n      <td>NaN</td>\n    </tr>\n    <tr>\n      <th>19</th>\n      <td>2016-12-30</td>\n      <td>NaN</td>\n      <td>NaN</td>\n      <td>NaN</td>\n      <td>NaN</td>\n      <td>23417.755</td>\n      <td>NaN</td>\n      <td>NaN</td>\n      <td>NaN</td>\n    </tr>\n    <tr>\n      <th>20</th>\n      <td>2017-03-31</td>\n      <td>NaN</td>\n      <td>NaN</td>\n      <td>NaN</td>\n      <td>NaN</td>\n      <td>24541.947</td>\n      <td>NaN</td>\n      <td>NaN</td>\n      <td>NaN</td>\n    </tr>\n    <tr>\n      <th>21</th>\n      <td>2017-06-30</td>\n      <td>NaN</td>\n      <td>NaN</td>\n      <td>NaN</td>\n      <td>NaN</td>\n      <td>25089.806</td>\n      <td>NaN</td>\n      <td>NaN</td>\n      <td>NaN</td>\n    </tr>\n    <tr>\n      <th>22</th>\n      <td>2017-09-29</td>\n      <td>NaN</td>\n      <td>NaN</td>\n      <td>NaN</td>\n      <td>NaN</td>\n      <td>25999.436</td>\n      <td>NaN</td>\n      <td>NaN</td>\n      <td>NaN</td>\n    </tr>\n    <tr>\n      <th>23</th>\n      <td>2017-12-29</td>\n      <td>NaN</td>\n      <td>NaN</td>\n      <td>NaN</td>\n      <td>NaN</td>\n      <td>27452.976</td>\n      <td>NaN</td>\n      <td>NaN</td>\n      <td>NaN</td>\n    </tr>\n    <tr>\n      <th>24</th>\n      <td>2018-03-29</td>\n      <td>NaN</td>\n      <td>NaN</td>\n      <td>NaN</td>\n      <td>NaN</td>\n      <td>27139.040</td>\n      <td>NaN</td>\n      <td>NaN</td>\n      <td>NaN</td>\n    </tr>\n    <tr>\n      <th>25</th>\n      <td>2018-06-29</td>\n      <td>NaN</td>\n      <td>NaN</td>\n      <td>NaN</td>\n      <td>NaN</td>\n      <td>27900.058</td>\n      <td>NaN</td>\n      <td>NaN</td>\n      <td>NaN</td>\n    </tr>\n    <tr>\n      <th>26</th>\n      <td>2018-09-28</td>\n      <td>NaN</td>\n      <td>NaN</td>\n      <td>NaN</td>\n      <td>NaN</td>\n      <td>29653.118</td>\n      <td>NaN</td>\n      <td>NaN</td>\n      <td>NaN</td>\n    </tr>\n    <tr>\n      <th>27</th>\n      <td>2018-12-31</td>\n      <td>NaN</td>\n      <td>NaN</td>\n      <td>NaN</td>\n      <td>NaN</td>\n      <td>25089.028</td>\n      <td>NaN</td>\n      <td>NaN</td>\n      <td>NaN</td>\n    </tr>\n    <tr>\n      <th>28</th>\n      <td>2019-03-29</td>\n      <td>NaN</td>\n      <td>NaN</td>\n      <td>NaN</td>\n      <td>NaN</td>\n      <td>28331.596</td>\n      <td>NaN</td>\n      <td>NaN</td>\n      <td>NaN</td>\n    </tr>\n    <tr>\n      <th>29</th>\n      <td>2019-06-28</td>\n      <td>NaN</td>\n      <td>NaN</td>\n      <td>NaN</td>\n      <td>NaN</td>\n      <td>29290.038</td>\n      <td>NaN</td>\n      <td>NaN</td>\n      <td>NaN</td>\n    </tr>\n    <tr>\n      <th>30</th>\n      <td>2019-08-29</td>\n      <td>NaN</td>\n      <td>NaN</td>\n      <td>NaN</td>\n      <td>NaN</td>\n      <td>NaN</td>\n      <td>NaN</td>\n      <td>NaN</td>\n      <td>NaN</td>\n    </tr>\n    <tr>\n      <th>31</th>\n      <td>2019-08-30</td>\n      <td>NaN</td>\n      <td>NaN</td>\n      <td>-0.000117</td>\n      <td>NaN</td>\n      <td>NaN</td>\n      <td>NaN</td>\n      <td>NaN</td>\n      <td>NaN</td>\n    </tr>\n    <tr>\n      <th>32</th>\n      <td>2019-08-31</td>\n      <td>NaN</td>\n      <td>NaN</td>\n      <td>NaN</td>\n      <td>NaN</td>\n      <td>NaN</td>\n      <td>NaN</td>\n      <td>22500.24</td>\n      <td>19781.04</td>\n    </tr>\n    <tr>\n      <th>96</th>\n      <td>2019-11-30</td>\n      <td>NaN</td>\n      <td>NaN</td>\n      <td>NaN</td>\n      <td>NaN</td>\n      <td>NaN</td>\n      <td>NaN</td>\n      <td>22522.29</td>\n      <td>19350.73</td>\n    </tr>\n    <tr>\n      <th>158</th>\n      <td>2020-02-29</td>\n      <td>NaN</td>\n      <td>NaN</td>\n      <td>NaN</td>\n      <td>NaN</td>\n      <td>NaN</td>\n      <td>NaN</td>\n      <td>23470.13</td>\n      <td>20046.61</td>\n    </tr>\n    <tr>\n      <th>222</th>\n      <td>2020-05-31</td>\n      <td>NaN</td>\n      <td>NaN</td>\n      <td>NaN</td>\n      <td>NaN</td>\n      <td>NaN</td>\n      <td>NaN</td>\n      <td>23080.94</td>\n      <td>20431.91</td>\n    </tr>\n  </tbody>\n</table>\n</div>"
     },
     "metadata": {},
     "execution_count": 152
    }
   ],
   "source": [
    "df[df.VTI_Return.isnull()]"
   ]
  },
  {
   "cell_type": "code",
   "execution_count": null,
   "metadata": {},
   "outputs": [],
   "source": []
  },
  {
   "cell_type": "code",
   "execution_count": 13,
   "metadata": {},
   "outputs": [],
   "source": [
    "# Enter in total amount you would like to invest under amountInvested \n",
    "amountInvested = 12000"
   ]
  },
  {
   "cell_type": "code",
   "execution_count": 67,
   "metadata": {},
   "outputs": [
    {
     "output_type": "error",
     "ename": "NameError",
     "evalue": "name 'etfEOQmarketcaps' is not defined",
     "traceback": [
      "\u001b[0;31m---------------------------------------------------------------------------\u001b[0m",
      "\u001b[0;31mNameError\u001b[0m                                 Traceback (most recent call last)",
      "\u001b[0;32m<ipython-input-67-d9a08cbc0ce9>\u001b[0m in \u001b[0;36m<module>\u001b[0;34m\u001b[0m\n\u001b[1;32m      1\u001b[0m \u001b[0;31m# GENERATING MARKET PORTFOLIO\u001b[0m\u001b[0;34m\u001b[0m\u001b[0;34m\u001b[0m\u001b[0;34m\u001b[0m\u001b[0m\n\u001b[1;32m      2\u001b[0m \u001b[0;31m# format [U.S. Stocks, International Stocks, U.S. Bonds, International Bonds] (in billions for market cap)\u001b[0m\u001b[0;34m\u001b[0m\u001b[0;34m\u001b[0m\u001b[0;34m\u001b[0m\u001b[0m\n\u001b[0;32m----> 3\u001b[0;31m \u001b[0mEOQmarketcaps\u001b[0m \u001b[0;34m=\u001b[0m \u001b[0mnp\u001b[0m\u001b[0;34m.\u001b[0m\u001b[0marray\u001b[0m\u001b[0;34m(\u001b[0m\u001b[0metfEOQmarketcaps\u001b[0m\u001b[0;34m)\u001b[0m\u001b[0;34m\u001b[0m\u001b[0;34m\u001b[0m\u001b[0m\n\u001b[0m\u001b[1;32m      4\u001b[0m \u001b[0mEOQprices\u001b[0m \u001b[0;34m=\u001b[0m \u001b[0mnp\u001b[0m\u001b[0;34m.\u001b[0m\u001b[0marray\u001b[0m\u001b[0;34m(\u001b[0m\u001b[0metfEOQprices\u001b[0m\u001b[0;34m)\u001b[0m\u001b[0;34m\u001b[0m\u001b[0;34m\u001b[0m\u001b[0m\n\u001b[1;32m      5\u001b[0m \u001b[0mrecentPrices\u001b[0m \u001b[0;34m=\u001b[0m \u001b[0mnp\u001b[0m\u001b[0;34m.\u001b[0m\u001b[0masarray\u001b[0m\u001b[0;34m(\u001b[0m\u001b[0metfRecentPrices\u001b[0m\u001b[0;34m)\u001b[0m\u001b[0;34m\u001b[0m\u001b[0;34m\u001b[0m\u001b[0m\n",
      "\u001b[0;31mNameError\u001b[0m: name 'etfEOQmarketcaps' is not defined"
     ]
    }
   ],
   "source": [
    "# GENERATING MARKET PORTFOLIO\n",
    "# format [U.S. Stocks, International Stocks, U.S. Bonds, International Bonds] (in billions for market cap)\n",
    "EOQmarketcaps = np.array(etfEOQmarketcaps)\n",
    "EOQprices = np.array(etfEOQprices)\n",
    "recentPrices = np.asarray(etfRecentPrices)\n",
    "# Market proportions for each etf on end of quarter\n",
    "EOQproportions = EOQmarketcaps/sum(EOQmarketcaps)\n",
    "# Ratio of recent prices and end of quarter prices\n",
    "priceRatios = recentPrices / EOQprices\n",
    "# Multiply ratios to market proportions\n",
    "products = EOQproportions * priceRatios\n",
    "# Market weights if fractional shares existed\n",
    "revisedProportions = products / sum(products)\n",
    "# Amount of money invested in each etf if fractional shares existed\n",
    "desiredValues = revisedProportions * amountInvested\n",
    "# Number of shares of etfs to buy if fractional shares existed\n",
    "currentPrices = np.array(etfCurrPrices(['VTI', 'VXUS', 'BND', 'BNDX']))\n",
    "shares = desiredValues/currentPrices\n",
    "# Optimize to get as close to 0 since fractional shares with Schwab doesn't exist\n",
    "def asdf(a):\n",
    "    return amountInvested - sum(np.round(shares * a)*currentPrices)\n",
    "a = .90\n",
    "while asdf(a) > 0:\n",
    "    if a <.99999:\n",
    "        a+=.00001\n",
    "    else:\n",
    "        break\n",
    "    if asdf(a) < 0:\n",
    "        a-=.00001\n",
    "        break\n",
    "# Actual shares of each etf to buy\n",
    "actualShares = np.round(shares * a)\n",
    "print('VTI, VXUS, BND, BNDX')\n",
    "print(actualShares)"
   ]
  },
  {
   "cell_type": "code",
   "execution_count": 15,
   "metadata": {},
   "outputs": [
    {
     "output_type": "stream",
     "name": "stdout",
     "text": "Theoretical proportions\n[0.32022161 0.23760532 0.24689227 0.19528079]\nActual proportions\n[0.31855103 0.23872327 0.24735598 0.19536972]\n"
    }
   ],
   "source": [
    "actualProportions = (actualShares * currentPrices)/sum(actualShares * currentPrices)\n",
    "print('Theoretical proportions')\n",
    "print(revisedProportions)\n",
    "print('Actual proportions')\n",
    "print(actualProportions)"
   ]
  },
  {
   "cell_type": "code",
   "execution_count": 16,
   "metadata": {},
   "outputs": [
    {
     "output_type": "stream",
     "name": "stdout",
     "text": "0.29\n"
    }
   ],
   "source": [
    "# Cash left over. You can invest this cash into VTIP (Vanguard's US TIPS ETF) or something else if you'd like.\n",
    "cash = amountInvested - sum((actualShares * currentPrices))\n",
    "print(np.round(cash,2))"
   ]
  },
  {
   "cell_type": "code",
   "execution_count": 17,
   "metadata": {},
   "outputs": [
    {
     "output_type": "stream",
     "name": "stdout",
     "text": "6.352818000000001\n"
    }
   ],
   "source": [
    "# How much it costs to maintain portfolio per year\n",
    "costs = [.0003,.0008,.00035,.0008]\n",
    "print(sum((actualShares * currentPrices)*costs))"
   ]
  },
  {
   "cell_type": "code",
   "execution_count": 12,
   "metadata": {},
   "outputs": [
    {
     "output_type": "execute_result",
     "data": {
      "text/plain": "array([147.02,  45.47,  87.3 ,  57.18])"
     },
     "metadata": {},
     "execution_count": 12
    }
   ],
   "source": [
    "currentPrices"
   ]
  },
  {
   "cell_type": "code",
   "execution_count": null,
   "metadata": {},
   "outputs": [],
   "source": [
    "# REBALANCE (run this cell if you already have money invested in the market portfolio)\n",
    "# Enter in number of shares here in current port in the format of VTI, VXUS, BND, BNDX\n",
    "currentPort = np.array([12.0588,27.0695,16.0667,21.0345])\n",
    "trades = actualShares - currentPort\n",
    "# Amount left for trades\n",
    "amountInvestable = amountInvested - sum(currentPort * currentPrices)\n",
    "# Need to make sure trades don't make balance go over amount of money available\n",
    "def asdf(a):\n",
    "    return amountInvestable - sum(np.round(trades * a)*currentPrices)\n",
    "a = .90\n",
    "while asdf(a) > 0:\n",
    "    if a <.99999:\n",
    "        a+=.00001\n",
    "    else:\n",
    "        break\n",
    "    if asdf(a) < 0:\n",
    "        a-=.00001\n",
    "        break\n",
    "actualTrades = np.round(trades * a)\n",
    "print('Trades: VTI, VXUS, BND, BNDX')\n",
    "print(actualTrades)\n",
    "print()\n",
    "print('Cash left over')\n",
    "print(asdf(a))"
   ]
  },
  {
   "cell_type": "code",
   "execution_count": null,
   "metadata": {},
   "outputs": [],
   "source": [
    "portAfterTrades = currentPort + actualTrades\n",
    "print('Theoretical proportions')\n",
    "print(revisedProportions)\n",
    "print()\n",
    "print('Actual proportions after rebalance')\n",
    "print((portAfterTrades * currentPrices)/sum(portAfterTrades * currentPrices))"
   ]
  },
  {
   "cell_type": "code",
   "execution_count": null,
   "metadata": {},
   "outputs": [],
   "source": []
  }
 ],
 "metadata": {
  "kernelspec": {
   "display_name": "Python 3.8.3 64-bit ('investmentresearch': conda)",
   "language": "python",
   "name": "python_defaultSpec_1596668059755"
  },
  "language_info": {
   "codemirror_mode": {
    "name": "ipython",
    "version": 3
   },
   "file_extension": ".py",
   "mimetype": "text/x-python",
   "name": "python",
   "nbconvert_exporter": "python",
   "pygments_lexer": "ipython3",
   "version": "3.8.3-final"
  }
 },
 "nbformat": 4,
 "nbformat_minor": 4
}