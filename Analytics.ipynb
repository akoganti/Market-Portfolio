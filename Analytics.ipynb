{
 "cells": [
  {
   "cell_type": "code",
   "execution_count": 2,
   "metadata": {},
   "outputs": [],
   "source": [
    "import numpy as np\n",
    "import pandas as pd\n",
    "from math import isnan\n",
    "from datetime import datetime,date\n",
    "# Saved Tiingo API Token in 'token' variable in apiToken.py file\n",
    "from apiToken import token"
   ]
  },
  {
   "cell_type": "code",
   "execution_count": 3,
   "metadata": {
    "tags": []
   },
   "outputs": [],
   "source": [
    "# Getting prices from Tiingo\n",
    "def getPrice(token,ticker,startDate,endDate):\n",
    "    return pd.read_csv('https://api.tiingo.com/tiingo/daily/'+ticker+'/prices?startDate='+startDate+'&endDate='+endDate+'&token='+token+'&format=csv')\n",
    "today = str(date.today())\n",
    "bndPrice = getPrice(token,'bnd','2019-09-30',today)\n",
    "bndxPrice = getPrice(token,'bndx','2019-09-30',today)\n",
    "vtiPrice = getPrice(token,'vti','2019-09-30',today)\n",
    "vxusPrice = getPrice(token,'vxus','2019-09-30',today)\n",
    "vtiPrice['returns'] = (vtiPrice.adjClose)/vtiPrice.adjClose.shift(1) - 1\n",
    "vxusPrice['returns'] = (vxusPrice.adjClose)/vxusPrice.adjClose.shift(1) - 1\n",
    "bndPrice['returns'] = (bndPrice.adjClose)/bndPrice.adjClose.shift(1) - 1\n",
    "bndxPrice['returns'] = (bndxPrice.adjClose)/bndxPrice.adjClose.shift(1) - 1\n",
    "bndPrice = bndPrice.loc[:,['date','returns','adjClose']]\n",
    "bndxPrice = bndxPrice.loc[:,['date','returns','adjClose']]\n",
    "vtiPrice = vtiPrice.loc[:,['date','returns','adjClose']]\n",
    "vxusPrice = vxusPrice.loc[:,['date','returns','adjClose']]"
   ]
  },
  {
   "cell_type": "code",
   "execution_count": 4,
   "metadata": {},
   "outputs": [],
   "source": [
    "# Reading saved data (Market cap is in billions)\n",
    "vti = pd.read_csv('Data/vti_MC_data.csv')\n",
    "vxus = pd.read_csv('Data/vxus_MC_data.csv')\n",
    "bnd = pd.read_csv('Data/bnd_MC_data.csv')\n",
    "bndx = pd.read_csv('Data/bndx_MC_data.csv')"
   ]
  },
  {
   "cell_type": "code",
   "execution_count": 5,
   "metadata": {
    "tags": []
   },
   "outputs": [],
   "source": [
    "df = vtiPrice.rename(columns={\"returns\":\"VTI_Return\",\"adjClose\":\"VTI_Price\"}).merge(vxusPrice.rename(columns={\"returns\":\"VXUS_Return\",\"adjClose\":\"VXUS_Price\"}),on='date',how='outer').merge(bndPrice.rename(columns={\"returns\":\"BND_Return\",\"adjClose\":\"BND_Price\"}),on='date',how='outer').merge(bndxPrice.rename(columns={\"returns\":\"BNDX_Return\",\"adjClose\":\"BNDX_Price\"}),on='date',how='outer').merge(vti.rename(columns={\"Market Cap\":\"VTI_MarketCap\"}),on='date',how='left').merge(vxus.rename(columns={\"Market Cap\":\"VXUS_MarketCap\"}),on='date',how='left').merge(bnd.rename(columns={\"Market Cap\":\"BND_MarketCap\"}),on='date',how='left').merge(bndx.rename(columns={\"Market Cap\":\"BNDX_MarketCap\"}),on='date',how='left').sort_values(by='date').reset_index(drop=True)"
   ]
  },
  {
   "cell_type": "code",
   "execution_count": 6,
   "metadata": {
    "tags": []
   },
   "outputs": [],
   "source": [
    "etfs = ['VTI','VXUS','BND','BNDX']\n",
    "for etf in etfs:\n",
    "    list = []\n",
    "    i = 0\n",
    "    value = 999\n",
    "    for mc,ret in zip(df[etf+'_MarketCap'],df[etf+'_Return']):\n",
    "        if i>0:\n",
    "            value = (ret+1) * list[i-1]\n",
    "        list.append(mc) if not isnan(mc) else list.append(value)\n",
    "        i+=1\n",
    "    df[etf+'_MarketCap'] = list"
   ]
  },
  {
   "cell_type": "code",
   "execution_count": 7,
   "metadata": {},
   "outputs": [],
   "source": [
    "df['VTI_weight'] = df['VTI_MarketCap']/(df.VTI_MarketCap+df.VXUS_MarketCap+df.BND_MarketCap+df.BNDX_MarketCap)\n",
    "df['VXUS_weight'] = df['VXUS_MarketCap']/(df.VTI_MarketCap+df.VXUS_MarketCap+df.BND_MarketCap+df.BNDX_MarketCap)\n",
    "df['BND_weight'] = df['BND_MarketCap']/(df.VTI_MarketCap+df.VXUS_MarketCap+df.BND_MarketCap+df.BNDX_MarketCap)\n",
    "df['BNDX_weight'] = df['BNDX_MarketCap']/(df.VTI_MarketCap+df.VXUS_MarketCap+df.BND_MarketCap+df.BNDX_MarketCap)\n",
    "\n",
    "#Enter starting amount\n",
    "startingAmount = 10000\n",
    "\n",
    "portfolioVal = [0 for i in range(len(df))]\n",
    "portfolioVal[0] = startingAmount\n",
    "df['Portfolio_Value'] = portfolioVal"
   ]
  },
  {
   "cell_type": "code",
   "execution_count": 8,
   "metadata": {
    "tags": []
   },
   "outputs": [],
   "source": [
    "i=0\n",
    "list2 = []\n",
    "portfolioRet = 1\n",
    "for vtiR,vxusR,bndR,bndxR,vtiW,vxusW,bndW,bndxW,portfolioValue in zip(df.VTI_Return,df.VXUS_Return,df.BND_Return,df.BNDX_Return,df.VTI_weight.shift(1),df.VXUS_weight.shift(1),df.BND_weight.shift(1),df.BNDX_weight.shift(1),df.Portfolio_Value):\n",
    "    if i>0:\n",
    "        portfolioRet = (vtiR*vtiW+vxusR*vxusW+bndR*bndW+bndxR*bndxW)+1\n",
    "    list2.append(portfolioValue) if portfolioValue != 0 else list2.append(list2[i-1]*portfolioRet)\n",
    "    i+=1\n",
    "df['Portfolio_Value'] = list2"
   ]
  },
  {
   "cell_type": "code",
   "execution_count": 9,
   "metadata": {},
   "outputs": [
    {
     "output_type": "execute_result",
     "data": {
      "text/plain": [
       "           date  VTI_Return   VTI_Price  VXUS_Return  VXUS_Price  BND_Return  \\\n",
       "0    2019-09-30         NaN  148.218599          NaN   50.350477         NaN   \n",
       "1    2019-10-01   -0.013046  146.284886    -0.009098   49.892391    0.000967   \n",
       "2    2019-10-02   -0.016238  143.909462    -0.015628   49.112670    0.002253   \n",
       "3    2019-10-03    0.008117  145.077543     0.007740   49.492784    0.003313   \n",
       "4    2019-10-04    0.013058  146.971992     0.006696   49.824166    0.001651   \n",
       "..          ...         ...         ...          ...         ...         ...   \n",
       "297  2020-12-02    0.000846  189.230000     0.000681   58.740000   -0.001703   \n",
       "298  2020-12-03    0.002008  189.610000     0.004597   59.010000    0.001933   \n",
       "299  2020-12-04    0.010021  191.510000     0.009151   59.550000   -0.002611   \n",
       "300  2020-12-07   -0.001097  191.300000    -0.005038   59.250000    0.001366   \n",
       "301  2020-12-08    0.004339  192.130000     0.002532   59.400000    0.000341   \n",
       "\n",
       "     BND_Price  BNDX_Return  BNDX_Price  VTI_MarketCap  VXUS_MarketCap  \\\n",
       "0    81.984829          NaN   56.800093   29401.430000      999.000000   \n",
       "1    82.064120    -0.001668   56.705377   29017.848430      989.911150   \n",
       "2    82.249015     0.000000   56.705377   28546.646704      974.440767   \n",
       "3    82.521491     0.003749   56.917974   28778.353338      981.982578   \n",
       "4    82.657729     0.000170   56.927638   29154.146450      988.557491   \n",
       "..         ...          ...         ...            ...             ...   \n",
       "297  87.930000     0.000172   58.290000   36989.283980    27711.935425   \n",
       "298  88.100000     0.002402   58.430000   37063.563576    27839.314086   \n",
       "299  87.870000    -0.000685   58.390000   37434.961555    28094.071409   \n",
       "300  87.990000     0.001713   58.490000   37393.912305    27952.539563   \n",
       "301  88.020000     0.001282   58.565000   37556.154580    28023.305486   \n",
       "\n",
       "     BND_MarketCap  BNDX_MarketCap  VTI_weight  VXUS_weight  BND_weight  \\\n",
       "0     22512.530000    19421.010000    0.406468     0.013811    0.311230   \n",
       "1     22534.302867    19388.625144    0.403414     0.013762    0.313278   \n",
       "2     22585.073856    19388.625144    0.399283     0.013630    0.315898   \n",
       "3     22659.894262    19461.315968    0.400358     0.013661    0.315239   \n",
       "4     22697.304465    19464.620096    0.403213     0.013672    0.313912   \n",
       "..             ...             ...         ...          ...         ...   \n",
       "297   23758.292241    22234.472490    0.334158     0.250347    0.214630   \n",
       "298   23804.225480    22287.874894    0.333921     0.250816    0.214462   \n",
       "299   23742.080510    22272.617064    0.335608     0.251866    0.212850   \n",
       "300   23774.503973    22310.761639    0.335577     0.250849    0.213355   \n",
       "301   23782.609838    22339.370070    0.336219     0.250877    0.212912   \n",
       "\n",
       "     BNDX_weight  Portfolio_Value  \n",
       "0       0.268491     10000.000000  \n",
       "1       0.269546      9944.247162  \n",
       "2       0.271189      9883.984865  \n",
       "3       0.270741      9937.453474  \n",
       "4       0.269203      9995.943607  \n",
       "..           ...              ...  \n",
       "297     0.200864     11425.406609  \n",
       "298     0.200801     11456.474040  \n",
       "299     0.199676     11513.114159  \n",
       "300     0.200219     11501.552603  \n",
       "301     0.199992     11529.392320  \n",
       "\n",
       "[302 rows x 18 columns]"
      ],
      "text/html": "<div>\n<style scoped>\n    .dataframe tbody tr th:only-of-type {\n        vertical-align: middle;\n    }\n\n    .dataframe tbody tr th {\n        vertical-align: top;\n    }\n\n    .dataframe thead th {\n        text-align: right;\n    }\n</style>\n<table border=\"1\" class=\"dataframe\">\n  <thead>\n    <tr style=\"text-align: right;\">\n      <th></th>\n      <th>date</th>\n      <th>VTI_Return</th>\n      <th>VTI_Price</th>\n      <th>VXUS_Return</th>\n      <th>VXUS_Price</th>\n      <th>BND_Return</th>\n      <th>BND_Price</th>\n      <th>BNDX_Return</th>\n      <th>BNDX_Price</th>\n      <th>VTI_MarketCap</th>\n      <th>VXUS_MarketCap</th>\n      <th>BND_MarketCap</th>\n      <th>BNDX_MarketCap</th>\n      <th>VTI_weight</th>\n      <th>VXUS_weight</th>\n      <th>BND_weight</th>\n      <th>BNDX_weight</th>\n      <th>Portfolio_Value</th>\n    </tr>\n  </thead>\n  <tbody>\n    <tr>\n      <th>0</th>\n      <td>2019-09-30</td>\n      <td>NaN</td>\n      <td>148.218599</td>\n      <td>NaN</td>\n      <td>50.350477</td>\n      <td>NaN</td>\n      <td>81.984829</td>\n      <td>NaN</td>\n      <td>56.800093</td>\n      <td>29401.430000</td>\n      <td>999.000000</td>\n      <td>22512.530000</td>\n      <td>19421.010000</td>\n      <td>0.406468</td>\n      <td>0.013811</td>\n      <td>0.311230</td>\n      <td>0.268491</td>\n      <td>10000.000000</td>\n    </tr>\n    <tr>\n      <th>1</th>\n      <td>2019-10-01</td>\n      <td>-0.013046</td>\n      <td>146.284886</td>\n      <td>-0.009098</td>\n      <td>49.892391</td>\n      <td>0.000967</td>\n      <td>82.064120</td>\n      <td>-0.001668</td>\n      <td>56.705377</td>\n      <td>29017.848430</td>\n      <td>989.911150</td>\n      <td>22534.302867</td>\n      <td>19388.625144</td>\n      <td>0.403414</td>\n      <td>0.013762</td>\n      <td>0.313278</td>\n      <td>0.269546</td>\n      <td>9944.247162</td>\n    </tr>\n    <tr>\n      <th>2</th>\n      <td>2019-10-02</td>\n      <td>-0.016238</td>\n      <td>143.909462</td>\n      <td>-0.015628</td>\n      <td>49.112670</td>\n      <td>0.002253</td>\n      <td>82.249015</td>\n      <td>0.000000</td>\n      <td>56.705377</td>\n      <td>28546.646704</td>\n      <td>974.440767</td>\n      <td>22585.073856</td>\n      <td>19388.625144</td>\n      <td>0.399283</td>\n      <td>0.013630</td>\n      <td>0.315898</td>\n      <td>0.271189</td>\n      <td>9883.984865</td>\n    </tr>\n    <tr>\n      <th>3</th>\n      <td>2019-10-03</td>\n      <td>0.008117</td>\n      <td>145.077543</td>\n      <td>0.007740</td>\n      <td>49.492784</td>\n      <td>0.003313</td>\n      <td>82.521491</td>\n      <td>0.003749</td>\n      <td>56.917974</td>\n      <td>28778.353338</td>\n      <td>981.982578</td>\n      <td>22659.894262</td>\n      <td>19461.315968</td>\n      <td>0.400358</td>\n      <td>0.013661</td>\n      <td>0.315239</td>\n      <td>0.270741</td>\n      <td>9937.453474</td>\n    </tr>\n    <tr>\n      <th>4</th>\n      <td>2019-10-04</td>\n      <td>0.013058</td>\n      <td>146.971992</td>\n      <td>0.006696</td>\n      <td>49.824166</td>\n      <td>0.001651</td>\n      <td>82.657729</td>\n      <td>0.000170</td>\n      <td>56.927638</td>\n      <td>29154.146450</td>\n      <td>988.557491</td>\n      <td>22697.304465</td>\n      <td>19464.620096</td>\n      <td>0.403213</td>\n      <td>0.013672</td>\n      <td>0.313912</td>\n      <td>0.269203</td>\n      <td>9995.943607</td>\n    </tr>\n    <tr>\n      <th>...</th>\n      <td>...</td>\n      <td>...</td>\n      <td>...</td>\n      <td>...</td>\n      <td>...</td>\n      <td>...</td>\n      <td>...</td>\n      <td>...</td>\n      <td>...</td>\n      <td>...</td>\n      <td>...</td>\n      <td>...</td>\n      <td>...</td>\n      <td>...</td>\n      <td>...</td>\n      <td>...</td>\n      <td>...</td>\n      <td>...</td>\n    </tr>\n    <tr>\n      <th>297</th>\n      <td>2020-12-02</td>\n      <td>0.000846</td>\n      <td>189.230000</td>\n      <td>0.000681</td>\n      <td>58.740000</td>\n      <td>-0.001703</td>\n      <td>87.930000</td>\n      <td>0.000172</td>\n      <td>58.290000</td>\n      <td>36989.283980</td>\n      <td>27711.935425</td>\n      <td>23758.292241</td>\n      <td>22234.472490</td>\n      <td>0.334158</td>\n      <td>0.250347</td>\n      <td>0.214630</td>\n      <td>0.200864</td>\n      <td>11425.406609</td>\n    </tr>\n    <tr>\n      <th>298</th>\n      <td>2020-12-03</td>\n      <td>0.002008</td>\n      <td>189.610000</td>\n      <td>0.004597</td>\n      <td>59.010000</td>\n      <td>0.001933</td>\n      <td>88.100000</td>\n      <td>0.002402</td>\n      <td>58.430000</td>\n      <td>37063.563576</td>\n      <td>27839.314086</td>\n      <td>23804.225480</td>\n      <td>22287.874894</td>\n      <td>0.333921</td>\n      <td>0.250816</td>\n      <td>0.214462</td>\n      <td>0.200801</td>\n      <td>11456.474040</td>\n    </tr>\n    <tr>\n      <th>299</th>\n      <td>2020-12-04</td>\n      <td>0.010021</td>\n      <td>191.510000</td>\n      <td>0.009151</td>\n      <td>59.550000</td>\n      <td>-0.002611</td>\n      <td>87.870000</td>\n      <td>-0.000685</td>\n      <td>58.390000</td>\n      <td>37434.961555</td>\n      <td>28094.071409</td>\n      <td>23742.080510</td>\n      <td>22272.617064</td>\n      <td>0.335608</td>\n      <td>0.251866</td>\n      <td>0.212850</td>\n      <td>0.199676</td>\n      <td>11513.114159</td>\n    </tr>\n    <tr>\n      <th>300</th>\n      <td>2020-12-07</td>\n      <td>-0.001097</td>\n      <td>191.300000</td>\n      <td>-0.005038</td>\n      <td>59.250000</td>\n      <td>0.001366</td>\n      <td>87.990000</td>\n      <td>0.001713</td>\n      <td>58.490000</td>\n      <td>37393.912305</td>\n      <td>27952.539563</td>\n      <td>23774.503973</td>\n      <td>22310.761639</td>\n      <td>0.335577</td>\n      <td>0.250849</td>\n      <td>0.213355</td>\n      <td>0.200219</td>\n      <td>11501.552603</td>\n    </tr>\n    <tr>\n      <th>301</th>\n      <td>2020-12-08</td>\n      <td>0.004339</td>\n      <td>192.130000</td>\n      <td>0.002532</td>\n      <td>59.400000</td>\n      <td>0.000341</td>\n      <td>88.020000</td>\n      <td>0.001282</td>\n      <td>58.565000</td>\n      <td>37556.154580</td>\n      <td>28023.305486</td>\n      <td>23782.609838</td>\n      <td>22339.370070</td>\n      <td>0.336219</td>\n      <td>0.250877</td>\n      <td>0.212912</td>\n      <td>0.199992</td>\n      <td>11529.392320</td>\n    </tr>\n  </tbody>\n</table>\n<p>302 rows × 18 columns</p>\n</div>"
     },
     "metadata": {},
     "execution_count": 9
    }
   ],
   "source": [
    "df"
   ]
  },
  {
   "cell_type": "code",
   "execution_count": null,
   "metadata": {},
   "outputs": [],
   "source": []
  },
  {
   "cell_type": "code",
   "execution_count": null,
   "metadata": {},
   "outputs": [],
   "source": []
  }
 ],
 "metadata": {
  "kernelspec": {
   "name": "python3",
   "display_name": "Python 3.8.5 64-bit ('investmentresearch': conda)",
   "metadata": {
    "interpreter": {
     "hash": "e4e30eeeeff31c32101eb9e87f02af63b1c375dcdb8e3e557c994c1d923d974d"
    }
   }
  },
  "language_info": {
   "codemirror_mode": {
    "name": "ipython",
    "version": 3
   },
   "file_extension": ".py",
   "mimetype": "text/x-python",
   "name": "python",
   "nbconvert_exporter": "python",
   "pygments_lexer": "ipython3",
   "version": "3.8.5-final"
  }
 },
 "nbformat": 4,
 "nbformat_minor": 4
}