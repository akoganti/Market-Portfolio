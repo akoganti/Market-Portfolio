{
 "cells": [
  {
   "cell_type": "code",
   "execution_count": 1,
   "metadata": {},
   "outputs": [],
   "source": [
    "import numpy as np\n",
    "import pandas as pd\n",
    "from math import isnan\n",
    "from datetime import datetime,date\n",
    "# Saved Tiingo API Token in 'token' variable in apiToken.py file\n",
    "from apiToken import token"
   ]
  },
  {
   "cell_type": "code",
   "execution_count": 2,
   "metadata": {
    "tags": []
   },
   "outputs": [],
   "source": [
    "# Getting prices from Tiingo\n",
    "def getPrice(token,ticker,startDate,endDate):\n",
    "    return pd.read_csv('https://api.tiingo.com/tiingo/daily/'+ticker+'/prices?startDate='+startDate+'&endDate='+endDate+'&token='+token+'&format=csv')\n",
    "today = str(date.today())\n",
    "bndPrice = getPrice(token,'bnd','2019-09-30',today)\n",
    "bndxPrice = getPrice(token,'bndx','2019-09-30',today)\n",
    "vtiPrice = getPrice(token,'vti','2019-09-30',today)\n",
    "vxusPrice = getPrice(token,'vxus','2019-09-30',today)\n",
    "vtiPrice['returns'] = (vtiPrice.adjClose)/vtiPrice.adjClose.shift(1) - 1\n",
    "vxusPrice['returns'] = (vxusPrice.adjClose)/vxusPrice.adjClose.shift(1) - 1\n",
    "bndPrice['returns'] = (bndPrice.adjClose)/bndPrice.adjClose.shift(1) - 1\n",
    "bndxPrice['returns'] = (bndxPrice.adjClose)/bndxPrice.adjClose.shift(1) - 1\n",
    "bndPrice = bndPrice.loc[:,['date','returns','adjClose']]\n",
    "bndxPrice = bndxPrice.loc[:,['date','returns','adjClose']]\n",
    "vtiPrice = vtiPrice.loc[:,['date','returns','adjClose']]\n",
    "vxusPrice = vxusPrice.loc[:,['date','returns','adjClose']]"
   ]
  },
  {
   "cell_type": "code",
   "execution_count": 3,
   "metadata": {},
   "outputs": [],
   "source": [
    "# Reading saved data (Market cap is in billions)\n",
    "vti = pd.read_csv('Data/vti_MC_Data.csv')\n",
    "vxus = pd.read_csv('Data/vxus_MC_Data.csv')\n",
    "bnd = pd.read_csv('Data/bnd_MC_Data.csv')\n",
    "bndx = pd.read_csv('Data/bndx_MC_Data.csv')"
   ]
  },
  {
   "cell_type": "code",
   "execution_count": 4,
   "metadata": {
    "tags": []
   },
   "outputs": [],
   "source": [
    "df = vtiPrice.rename(columns={\"returns\":\"VTI_Return\",\"adjClose\":\"VTI_Price\"}).merge(vxusPrice.rename(columns={\"returns\":\"VXUS_Return\",\"adjClose\":\"VXUS_Price\"}),on='date',how='outer').merge(bndPrice.rename(columns={\"returns\":\"BND_Return\",\"adjClose\":\"BND_Price\"}),on='date',how='outer').merge(bndxPrice.rename(columns={\"returns\":\"BNDX_Return\",\"adjClose\":\"BNDX_Price\"}),on='date',how='outer').merge(vti.rename(columns={\"Market Cap\":\"VTI_MarketCap\"}),on='date',how='left').merge(vxus.rename(columns={\"Market Cap\":\"VXUS_MarketCap\"}),on='date',how='left').merge(bnd.rename(columns={\"Market Cap\":\"BND_MarketCap\"}),on='date',how='left').merge(bndx.rename(columns={\"Market Cap\":\"BNDX_MarketCap\"}),on='date',how='left').sort_values(by='date').reset_index(drop=True)"
   ]
  },
  {
   "cell_type": "code",
   "execution_count": 5,
   "metadata": {
    "tags": []
   },
   "outputs": [],
   "source": [
    "etfs = ['VTI','VXUS','BND','BNDX']\n",
    "for etf in etfs:\n",
    "    list = []\n",
    "    i = 0\n",
    "    value = 999\n",
    "    for mc,ret in zip(df[etf+'_MarketCap'],df[etf+'_Return']):\n",
    "        if i>0:\n",
    "            value = (ret+1) * list[i-1]\n",
    "        list.append(mc) if not isnan(mc) else list.append(value)\n",
    "        i+=1\n",
    "    df[etf+'_MarketCap'] = list"
   ]
  },
  {
   "cell_type": "code",
   "execution_count": 6,
   "metadata": {},
   "outputs": [],
   "source": [
    "df['VTI_weight'] = df['VTI_MarketCap']/(df.VTI_MarketCap+df.VXUS_MarketCap+df.BND_MarketCap+df.BNDX_MarketCap)\n",
    "df['VXUS_weight'] = df['VXUS_MarketCap']/(df.VTI_MarketCap+df.VXUS_MarketCap+df.BND_MarketCap+df.BNDX_MarketCap)\n",
    "df['BND_weight'] = df['BND_MarketCap']/(df.VTI_MarketCap+df.VXUS_MarketCap+df.BND_MarketCap+df.BNDX_MarketCap)\n",
    "df['BNDX_weight'] = df['BNDX_MarketCap']/(df.VTI_MarketCap+df.VXUS_MarketCap+df.BND_MarketCap+df.BNDX_MarketCap)\n",
    "\n",
    "#Enter starting amount\n",
    "startingAmount = 10000\n",
    "\n",
    "portfolioVal = [0 for i in range(len(df))]\n",
    "portfolioVal[0] = startingAmount\n",
    "df['Portfolio_Value'] = portfolioVal"
   ]
  },
  {
   "cell_type": "code",
   "execution_count": 7,
   "metadata": {
    "tags": []
   },
   "outputs": [],
   "source": [
    "i=0\n",
    "list2 = []\n",
    "portfolioRet = 1\n",
    "for vtiR,vxusR,bndR,bndxR,vtiW,vxusW,bndW,bndxW,portfolioValue in zip(df.VTI_Return,df.VXUS_Return,df.BND_Return,df.BNDX_Return,df.VTI_weight.shift(1),df.VXUS_weight.shift(1),df.BND_weight.shift(1),df.BNDX_weight.shift(1),df.Portfolio_Value):\n",
    "    if i>0:\n",
    "        portfolioRet = (vtiR*vtiW+vxusR*vxusW+bndR*bndW+bndxR*bndxW)+1\n",
    "    list2.append(portfolioValue) if portfolioValue != 0 else list2.append(list2[i-1]*portfolioRet)\n",
    "    i+=1\n",
    "df['Portfolio_Value'] = list2"
   ]
  },
  {
   "cell_type": "code",
   "execution_count": 8,
   "metadata": {},
   "outputs": [
    {
     "output_type": "execute_result",
     "data": {
      "text/plain": "           date  VTI_Return   VTI_Price  VXUS_Return  VXUS_Price  BND_Return  \\\n0    2019-09-30         NaN  148.817031          NaN   50.677485         NaN   \n1    2019-10-01   -0.013046  146.875511    -0.009098   50.216424    0.000967   \n2    2019-10-02   -0.016238  144.490496    -0.015628   49.431639    0.002253   \n3    2019-10-03    0.008117  145.663292     0.007740   49.814222    0.003313   \n4    2019-10-04    0.013058  147.565391     0.006696   50.147755    0.001651   \n..          ...         ...         ...          ...         ...         ...   \n235  2020-09-03   -0.034761  174.940000    -0.021751   53.070000    0.000113   \n236  2020-09-04   -0.008517  173.450000     0.002073   53.180000   -0.005859   \n237  2020-09-08   -0.028077  168.580000    -0.014291   52.420000    0.001473   \n238  2020-09-09    0.019575  171.880000     0.016978   53.310000   -0.000679   \n239  2020-09-10   -0.016407  169.060000    -0.012380   52.650000    0.000227   \n\n     BND_Price  BNDX_Return  BNDX_Price  VTI_MarketCap  VXUS_MarketCap  \\\n0    82.399983          NaN   56.935017   29401.430000    23547.228000   \n1    82.479676    -0.001668   56.840077   29017.848430    23332.996541   \n2    82.665507     0.000000   56.840077   28546.646704    22968.347250   \n3    82.939363     0.003749   57.053179   28778.353338    23146.113779   \n4    83.076291     0.000170   57.062866   29154.146450    23301.089728   \n..         ...          ...         ...            ...             ...   \n235  88.750000    -0.000345   58.000000   34052.494017    24814.188928   \n236  88.230000    -0.001724   57.900000   33762.461914    24865.622144   \n237  88.360000     0.001382   57.980000   32814.504638    24510.265378   \n238  88.300000    -0.000345   57.960000   33456.857617    24926.406854   \n239  88.320000     0.000173   57.970000   32907.937798    24617.807557   \n\n     BND_MarketCap  BNDX_MarketCap  VTI_weight  VXUS_weight  BND_weight  \\\n0     22512.530000    19421.010000    0.309873     0.248173    0.237268   \n1     22534.302867    19388.625144    0.307804     0.247503    0.239030   \n2     22585.073856    19388.625144    0.305349     0.245680    0.241581   \n3     22659.894262    19461.315968    0.306004     0.246116    0.240946   \n4     22697.304465    19464.620096    0.308127     0.246267    0.239886   \n..             ...             ...         ...          ...         ...   \n235   23706.294015    20991.580699    0.328805     0.239601    0.228904   \n236   23567.395166    20955.388318    0.327311     0.241061    0.228475   \n237   23602.119878    20984.342223    0.321991     0.240506    0.231595   \n238   23586.093088    20977.103747    0.324993     0.242130    0.229110   \n239   23591.435351    20980.722985    0.322317     0.241120    0.231067   \n\n     BNDX_weight  Portfolio_Value  \n0       0.204685     10000.000000  \n1       0.205663      9935.875746  \n2       0.207390      9853.133140  \n3       0.206935      9911.835869  \n4       0.205720      9972.066703  \n..           ...              ...  \n235     0.202691     10881.309962  \n236     0.203153     10837.844412  \n237     0.205908     10707.598529  \n238     0.203767     10816.367880  \n239     0.205496     10727.211718  \n\n[240 rows x 18 columns]",
      "text/html": "<div>\n<style scoped>\n    .dataframe tbody tr th:only-of-type {\n        vertical-align: middle;\n    }\n\n    .dataframe tbody tr th {\n        vertical-align: top;\n    }\n\n    .dataframe thead th {\n        text-align: right;\n    }\n</style>\n<table border=\"1\" class=\"dataframe\">\n  <thead>\n    <tr style=\"text-align: right;\">\n      <th></th>\n      <th>date</th>\n      <th>VTI_Return</th>\n      <th>VTI_Price</th>\n      <th>VXUS_Return</th>\n      <th>VXUS_Price</th>\n      <th>BND_Return</th>\n      <th>BND_Price</th>\n      <th>BNDX_Return</th>\n      <th>BNDX_Price</th>\n      <th>VTI_MarketCap</th>\n      <th>VXUS_MarketCap</th>\n      <th>BND_MarketCap</th>\n      <th>BNDX_MarketCap</th>\n      <th>VTI_weight</th>\n      <th>VXUS_weight</th>\n      <th>BND_weight</th>\n      <th>BNDX_weight</th>\n      <th>Portfolio_Value</th>\n    </tr>\n  </thead>\n  <tbody>\n    <tr>\n      <th>0</th>\n      <td>2019-09-30</td>\n      <td>NaN</td>\n      <td>148.817031</td>\n      <td>NaN</td>\n      <td>50.677485</td>\n      <td>NaN</td>\n      <td>82.399983</td>\n      <td>NaN</td>\n      <td>56.935017</td>\n      <td>29401.430000</td>\n      <td>23547.228000</td>\n      <td>22512.530000</td>\n      <td>19421.010000</td>\n      <td>0.309873</td>\n      <td>0.248173</td>\n      <td>0.237268</td>\n      <td>0.204685</td>\n      <td>10000.000000</td>\n    </tr>\n    <tr>\n      <th>1</th>\n      <td>2019-10-01</td>\n      <td>-0.013046</td>\n      <td>146.875511</td>\n      <td>-0.009098</td>\n      <td>50.216424</td>\n      <td>0.000967</td>\n      <td>82.479676</td>\n      <td>-0.001668</td>\n      <td>56.840077</td>\n      <td>29017.848430</td>\n      <td>23332.996541</td>\n      <td>22534.302867</td>\n      <td>19388.625144</td>\n      <td>0.307804</td>\n      <td>0.247503</td>\n      <td>0.239030</td>\n      <td>0.205663</td>\n      <td>9935.875746</td>\n    </tr>\n    <tr>\n      <th>2</th>\n      <td>2019-10-02</td>\n      <td>-0.016238</td>\n      <td>144.490496</td>\n      <td>-0.015628</td>\n      <td>49.431639</td>\n      <td>0.002253</td>\n      <td>82.665507</td>\n      <td>0.000000</td>\n      <td>56.840077</td>\n      <td>28546.646704</td>\n      <td>22968.347250</td>\n      <td>22585.073856</td>\n      <td>19388.625144</td>\n      <td>0.305349</td>\n      <td>0.245680</td>\n      <td>0.241581</td>\n      <td>0.207390</td>\n      <td>9853.133140</td>\n    </tr>\n    <tr>\n      <th>3</th>\n      <td>2019-10-03</td>\n      <td>0.008117</td>\n      <td>145.663292</td>\n      <td>0.007740</td>\n      <td>49.814222</td>\n      <td>0.003313</td>\n      <td>82.939363</td>\n      <td>0.003749</td>\n      <td>57.053179</td>\n      <td>28778.353338</td>\n      <td>23146.113779</td>\n      <td>22659.894262</td>\n      <td>19461.315968</td>\n      <td>0.306004</td>\n      <td>0.246116</td>\n      <td>0.240946</td>\n      <td>0.206935</td>\n      <td>9911.835869</td>\n    </tr>\n    <tr>\n      <th>4</th>\n      <td>2019-10-04</td>\n      <td>0.013058</td>\n      <td>147.565391</td>\n      <td>0.006696</td>\n      <td>50.147755</td>\n      <td>0.001651</td>\n      <td>83.076291</td>\n      <td>0.000170</td>\n      <td>57.062866</td>\n      <td>29154.146450</td>\n      <td>23301.089728</td>\n      <td>22697.304465</td>\n      <td>19464.620096</td>\n      <td>0.308127</td>\n      <td>0.246267</td>\n      <td>0.239886</td>\n      <td>0.205720</td>\n      <td>9972.066703</td>\n    </tr>\n    <tr>\n      <th>...</th>\n      <td>...</td>\n      <td>...</td>\n      <td>...</td>\n      <td>...</td>\n      <td>...</td>\n      <td>...</td>\n      <td>...</td>\n      <td>...</td>\n      <td>...</td>\n      <td>...</td>\n      <td>...</td>\n      <td>...</td>\n      <td>...</td>\n      <td>...</td>\n      <td>...</td>\n      <td>...</td>\n      <td>...</td>\n      <td>...</td>\n    </tr>\n    <tr>\n      <th>235</th>\n      <td>2020-09-03</td>\n      <td>-0.034761</td>\n      <td>174.940000</td>\n      <td>-0.021751</td>\n      <td>53.070000</td>\n      <td>0.000113</td>\n      <td>88.750000</td>\n      <td>-0.000345</td>\n      <td>58.000000</td>\n      <td>34052.494017</td>\n      <td>24814.188928</td>\n      <td>23706.294015</td>\n      <td>20991.580699</td>\n      <td>0.328805</td>\n      <td>0.239601</td>\n      <td>0.228904</td>\n      <td>0.202691</td>\n      <td>10881.309962</td>\n    </tr>\n    <tr>\n      <th>236</th>\n      <td>2020-09-04</td>\n      <td>-0.008517</td>\n      <td>173.450000</td>\n      <td>0.002073</td>\n      <td>53.180000</td>\n      <td>-0.005859</td>\n      <td>88.230000</td>\n      <td>-0.001724</td>\n      <td>57.900000</td>\n      <td>33762.461914</td>\n      <td>24865.622144</td>\n      <td>23567.395166</td>\n      <td>20955.388318</td>\n      <td>0.327311</td>\n      <td>0.241061</td>\n      <td>0.228475</td>\n      <td>0.203153</td>\n      <td>10837.844412</td>\n    </tr>\n    <tr>\n      <th>237</th>\n      <td>2020-09-08</td>\n      <td>-0.028077</td>\n      <td>168.580000</td>\n      <td>-0.014291</td>\n      <td>52.420000</td>\n      <td>0.001473</td>\n      <td>88.360000</td>\n      <td>0.001382</td>\n      <td>57.980000</td>\n      <td>32814.504638</td>\n      <td>24510.265378</td>\n      <td>23602.119878</td>\n      <td>20984.342223</td>\n      <td>0.321991</td>\n      <td>0.240506</td>\n      <td>0.231595</td>\n      <td>0.205908</td>\n      <td>10707.598529</td>\n    </tr>\n    <tr>\n      <th>238</th>\n      <td>2020-09-09</td>\n      <td>0.019575</td>\n      <td>171.880000</td>\n      <td>0.016978</td>\n      <td>53.310000</td>\n      <td>-0.000679</td>\n      <td>88.300000</td>\n      <td>-0.000345</td>\n      <td>57.960000</td>\n      <td>33456.857617</td>\n      <td>24926.406854</td>\n      <td>23586.093088</td>\n      <td>20977.103747</td>\n      <td>0.324993</td>\n      <td>0.242130</td>\n      <td>0.229110</td>\n      <td>0.203767</td>\n      <td>10816.367880</td>\n    </tr>\n    <tr>\n      <th>239</th>\n      <td>2020-09-10</td>\n      <td>-0.016407</td>\n      <td>169.060000</td>\n      <td>-0.012380</td>\n      <td>52.650000</td>\n      <td>0.000227</td>\n      <td>88.320000</td>\n      <td>0.000173</td>\n      <td>57.970000</td>\n      <td>32907.937798</td>\n      <td>24617.807557</td>\n      <td>23591.435351</td>\n      <td>20980.722985</td>\n      <td>0.322317</td>\n      <td>0.241120</td>\n      <td>0.231067</td>\n      <td>0.205496</td>\n      <td>10727.211718</td>\n    </tr>\n  </tbody>\n</table>\n<p>240 rows × 18 columns</p>\n</div>"
     },
     "metadata": {},
     "execution_count": 8
    }
   ],
   "source": [
    "df"
   ]
  },
  {
   "cell_type": "code",
   "execution_count": null,
   "metadata": {},
   "outputs": [],
   "source": []
  }
 ],
 "metadata": {
  "kernelspec": {
   "display_name": "Python 3.8.3 64-bit ('investmentresearch': conda)",
   "language": "python",
   "name": "python_defaultSpec_1599772275503"
  },
  "language_info": {
   "codemirror_mode": {
    "name": "ipython",
    "version": 3
   },
   "file_extension": ".py",
   "mimetype": "text/x-python",
   "name": "python",
   "nbconvert_exporter": "python",
   "pygments_lexer": "ipython3",
   "version": "3.8.5-final"
  }
 },
 "nbformat": 4,
 "nbformat_minor": 4
}