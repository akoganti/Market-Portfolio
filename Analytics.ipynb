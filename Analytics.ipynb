{
 "cells": [
  {
   "cell_type": "code",
   "execution_count": 1,
   "metadata": {},
   "outputs": [],
   "source": [
    "import numpy as np\n",
    "import pandas as pd\n",
    "from math import isnan\n",
    "from datetime import datetime,date\n",
    "# Saved Tiingo API Token in 'token' variable in apiToken.py file\n",
    "from apiToken import token"
   ]
  },
  {
   "cell_type": "code",
   "execution_count": 2,
   "metadata": {
    "tags": []
   },
   "outputs": [],
   "source": [
    "# Getting prices from Tiingo\n",
    "def getPrice(token,ticker,startDate,endDate):\n",
    "    return pd.read_csv('https://api.tiingo.com/tiingo/daily/'+ticker+'/prices?startDate='+startDate+'&endDate='+endDate+'&token='+token+'&format=csv')\n",
    "today = str(date.today())\n",
    "bndPrice = getPrice(token,'bnd','2019-09-30',today)\n",
    "bndxPrice = getPrice(token,'bndx','2019-09-30',today)\n",
    "vtiPrice = getPrice(token,'vti','2019-09-30',today)\n",
    "vxusPrice = getPrice(token,'vxus','2019-09-30',today)\n",
    "vtiPrice['returns'] = (vtiPrice.adjClose)/vtiPrice.adjClose.shift(1) - 1\n",
    "vxusPrice['returns'] = (vxusPrice.adjClose)/vxusPrice.adjClose.shift(1) - 1\n",
    "bndPrice['returns'] = (bndPrice.adjClose)/bndPrice.adjClose.shift(1) - 1\n",
    "bndxPrice['returns'] = (bndxPrice.adjClose)/bndxPrice.adjClose.shift(1) - 1\n",
    "bndPrice = bndPrice.loc[:,['date','returns','adjClose']]\n",
    "bndxPrice = bndxPrice.loc[:,['date','returns','adjClose']]\n",
    "vtiPrice = vtiPrice.loc[:,['date','returns','adjClose']]\n",
    "vxusPrice = vxusPrice.loc[:,['date','returns','adjClose']]"
   ]
  },
  {
   "cell_type": "code",
   "execution_count": 3,
   "metadata": {},
   "outputs": [],
   "source": [
    "# Reading saved data (Market cap is in billions)\n",
    "vti = pd.read_csv('Data/vti_MC_Data.csv')\n",
    "vxus = pd.read_csv('Data/vxus_MC_Data.csv')\n",
    "bnd = pd.read_csv('Data/bnd_MC_Data.csv')\n",
    "bndx = pd.read_csv('Data/bndx_MC_Data.csv')"
   ]
  },
  {
   "cell_type": "code",
   "execution_count": 4,
   "metadata": {
    "tags": []
   },
   "outputs": [],
   "source": [
    "df = vtiPrice.rename(columns={\"returns\":\"VTI_Return\",\"adjClose\":\"VTI_Price\"}).merge(vxusPrice.rename(columns={\"returns\":\"VXUS_Return\",\"adjClose\":\"VXUS_Price\"}),on='date',how='outer').merge(bndPrice.rename(columns={\"returns\":\"BND_Return\",\"adjClose\":\"BND_Price\"}),on='date',how='outer').merge(bndxPrice.rename(columns={\"returns\":\"BNDX_Return\",\"adjClose\":\"BNDX_Price\"}),on='date',how='outer').merge(vti.rename(columns={\"Market Cap\":\"VTI_MarketCap\"}),on='date',how='left').merge(vxus.rename(columns={\"Market Cap\":\"VXUS_MarketCap\"}),on='date',how='left').merge(bnd.rename(columns={\"Market Cap\":\"BND_MarketCap\"}),on='date',how='left').merge(bndx.rename(columns={\"Market Cap\":\"BNDX_MarketCap\"}),on='date',how='left').sort_values(by='date').reset_index(drop=True)"
   ]
  },
  {
   "cell_type": "code",
   "execution_count": 5,
   "metadata": {
    "tags": []
   },
   "outputs": [],
   "source": [
    "etfs = ['VTI','VXUS','BND','BNDX']\n",
    "for etf in etfs:\n",
    "    list = []\n",
    "    i = 0\n",
    "    value = 999\n",
    "    for mc,ret in zip(df[etf+'_MarketCap'],df[etf+'_Return']):\n",
    "        if i>0:\n",
    "            value = (ret+1) * list[i-1]\n",
    "        list.append(mc) if not isnan(mc) else list.append(value)\n",
    "        i+=1\n",
    "    df[etf+'_MarketCap'] = list"
   ]
  },
  {
   "cell_type": "code",
   "execution_count": 6,
   "metadata": {},
   "outputs": [],
   "source": [
    "df['VTI_weight'] = df['VTI_MarketCap']/(df.VTI_MarketCap+df.VXUS_MarketCap+df.BND_MarketCap+df.BNDX_MarketCap)\n",
    "df['VXUS_weight'] = df['VXUS_MarketCap']/(df.VTI_MarketCap+df.VXUS_MarketCap+df.BND_MarketCap+df.BNDX_MarketCap)\n",
    "df['BND_weight'] = df['BND_MarketCap']/(df.VTI_MarketCap+df.VXUS_MarketCap+df.BND_MarketCap+df.BNDX_MarketCap)\n",
    "df['BNDX_weight'] = df['BNDX_MarketCap']/(df.VTI_MarketCap+df.VXUS_MarketCap+df.BND_MarketCap+df.BNDX_MarketCap)\n",
    "\n",
    "#Enter starting amount\n",
    "startingAmount = 10000\n",
    "\n",
    "portfolioVal = [0 for i in range(len(df))]\n",
    "portfolioVal[0] = startingAmount\n",
    "df['Portfolio_Value'] = portfolioVal"
   ]
  },
  {
   "cell_type": "code",
   "execution_count": 7,
   "metadata": {
    "tags": []
   },
   "outputs": [],
   "source": [
    "i=0\n",
    "list2 = []\n",
    "portfolioRet = 1\n",
    "for vtiR,vxusR,bndR,bndxR,vtiW,vxusW,bndW,bndxW,portfolioValue in zip(df.VTI_Return,df.VXUS_Return,df.BND_Return,df.BNDX_Return,df.VTI_weight.shift(1),df.VXUS_weight.shift(1),df.BND_weight.shift(1),df.BNDX_weight.shift(1),df.Portfolio_Value):\n",
    "    if i>0:\n",
    "        portfolioRet = (vtiR*vtiW+vxusR*vxusW+bndR*bndW+bndxR*bndxW)+1\n",
    "    list2.append(portfolioValue) if portfolioValue != 0 else list2.append(list2[i-1]*portfolioRet)\n",
    "    i+=1\n",
    "df['Portfolio_Value'] = list2"
   ]
  },
  {
   "cell_type": "code",
   "execution_count": 8,
   "metadata": {},
   "outputs": [
    {
     "output_type": "execute_result",
     "data": {
      "text/plain": [
       "           date  VTI_Return   VTI_Price  VXUS_Return  VXUS_Price  BND_Return  \\\n",
       "0    2019-09-30         NaN  148.218599          NaN   50.350477         NaN   \n",
       "1    2019-10-01   -0.013046  146.284886    -0.009098   49.892391    0.000967   \n",
       "2    2019-10-02   -0.016238  143.909462    -0.015628   49.112670    0.002253   \n",
       "3    2019-10-03    0.008117  145.077543     0.007740   49.492784    0.003313   \n",
       "4    2019-10-04    0.013058  146.971992     0.006696   49.824166    0.001651   \n",
       "..          ...         ...         ...          ...         ...         ...   \n",
       "269  2020-10-22    0.007085  176.260000     0.000187   53.370000   -0.001710   \n",
       "270  2020-10-23    0.003291  176.840000     0.005621   53.670000    0.001256   \n",
       "271  2020-10-26   -0.018152  173.630000    -0.016769   52.770000    0.001482   \n",
       "272  2020-10-27   -0.004032  172.930000    -0.003601   52.580000    0.002391   \n",
       "273  2020-10-28   -0.033135  167.200000    -0.028528   51.080000   -0.001363   \n",
       "\n",
       "     BND_Price  BNDX_Return  BNDX_Price  VTI_MarketCap  VXUS_MarketCap  \\\n",
       "0    82.259751          NaN   56.889932   29401.430000      999.000000   \n",
       "1    82.339308    -0.001668   56.795067   29017.848430      989.911150   \n",
       "2    82.524823     0.000000   56.795067   28546.646704      974.440767   \n",
       "3    82.798214     0.003749   57.008000   28778.353338      981.982578   \n",
       "4    82.934909     0.000170   57.017679   29154.146450      988.557491   \n",
       "..         ...          ...         ...            ...             ...   \n",
       "269  87.590000    -0.001372   58.210000   34454.004092    25178.515384   \n",
       "270  87.700000     0.001031   58.270000   34567.378212    25320.047229   \n",
       "271  87.830000     0.000858   58.320000   33939.911100    24895.451692   \n",
       "272  88.040000     0.001886   58.430000   33803.080266    24805.814856   \n",
       "273  87.920000    -0.000171   58.420000   32683.022150    24098.155627   \n",
       "\n",
       "     BND_MarketCap  BNDX_MarketCap  VTI_weight  VXUS_weight  BND_weight  \\\n",
       "0     22512.530000    19421.010000    0.406468     0.013811    0.311230   \n",
       "1     22534.302867    19388.625144    0.403414     0.013762    0.313278   \n",
       "2     22585.073856    19388.625144    0.399283     0.013630    0.315898   \n",
       "3     22659.894262    19461.315968    0.400358     0.013661    0.315239   \n",
       "4     22697.304465    19464.620096    0.403213     0.013672    0.313912   \n",
       "..             ...             ...         ...          ...         ...   \n",
       "269   23587.329501    22168.892845    0.326923     0.238911    0.223813   \n",
       "270   23616.951675    22191.743447    0.327045     0.239555    0.223442   \n",
       "271   23651.959699    22210.785616    0.324169     0.237783    0.225906   \n",
       "272   23708.511123    22252.678387    0.323258     0.237217    0.226724   \n",
       "273   23676.196024    22248.869954    0.318218     0.234632    0.230523   \n",
       "\n",
       "     BNDX_weight  Portfolio_Value  \n",
       "0       0.268491     10000.000000  \n",
       "1       0.269546      9944.247162  \n",
       "2       0.271189      9883.984865  \n",
       "3       0.270741      9937.453474  \n",
       "4       0.269203      9995.943607  \n",
       "..           ...              ...  \n",
       "269     0.210354     10877.819935  \n",
       "270     0.209958     10909.546385  \n",
       "271     0.212141     10806.535384  \n",
       "272     0.212802     10793.321294  \n",
       "273     0.216626     10600.942819  \n",
       "\n",
       "[274 rows x 18 columns]"
      ],
      "text/html": "<div>\n<style scoped>\n    .dataframe tbody tr th:only-of-type {\n        vertical-align: middle;\n    }\n\n    .dataframe tbody tr th {\n        vertical-align: top;\n    }\n\n    .dataframe thead th {\n        text-align: right;\n    }\n</style>\n<table border=\"1\" class=\"dataframe\">\n  <thead>\n    <tr style=\"text-align: right;\">\n      <th></th>\n      <th>date</th>\n      <th>VTI_Return</th>\n      <th>VTI_Price</th>\n      <th>VXUS_Return</th>\n      <th>VXUS_Price</th>\n      <th>BND_Return</th>\n      <th>BND_Price</th>\n      <th>BNDX_Return</th>\n      <th>BNDX_Price</th>\n      <th>VTI_MarketCap</th>\n      <th>VXUS_MarketCap</th>\n      <th>BND_MarketCap</th>\n      <th>BNDX_MarketCap</th>\n      <th>VTI_weight</th>\n      <th>VXUS_weight</th>\n      <th>BND_weight</th>\n      <th>BNDX_weight</th>\n      <th>Portfolio_Value</th>\n    </tr>\n  </thead>\n  <tbody>\n    <tr>\n      <th>0</th>\n      <td>2019-09-30</td>\n      <td>NaN</td>\n      <td>148.218599</td>\n      <td>NaN</td>\n      <td>50.350477</td>\n      <td>NaN</td>\n      <td>82.259751</td>\n      <td>NaN</td>\n      <td>56.889932</td>\n      <td>29401.430000</td>\n      <td>999.000000</td>\n      <td>22512.530000</td>\n      <td>19421.010000</td>\n      <td>0.406468</td>\n      <td>0.013811</td>\n      <td>0.311230</td>\n      <td>0.268491</td>\n      <td>10000.000000</td>\n    </tr>\n    <tr>\n      <th>1</th>\n      <td>2019-10-01</td>\n      <td>-0.013046</td>\n      <td>146.284886</td>\n      <td>-0.009098</td>\n      <td>49.892391</td>\n      <td>0.000967</td>\n      <td>82.339308</td>\n      <td>-0.001668</td>\n      <td>56.795067</td>\n      <td>29017.848430</td>\n      <td>989.911150</td>\n      <td>22534.302867</td>\n      <td>19388.625144</td>\n      <td>0.403414</td>\n      <td>0.013762</td>\n      <td>0.313278</td>\n      <td>0.269546</td>\n      <td>9944.247162</td>\n    </tr>\n    <tr>\n      <th>2</th>\n      <td>2019-10-02</td>\n      <td>-0.016238</td>\n      <td>143.909462</td>\n      <td>-0.015628</td>\n      <td>49.112670</td>\n      <td>0.002253</td>\n      <td>82.524823</td>\n      <td>0.000000</td>\n      <td>56.795067</td>\n      <td>28546.646704</td>\n      <td>974.440767</td>\n      <td>22585.073856</td>\n      <td>19388.625144</td>\n      <td>0.399283</td>\n      <td>0.013630</td>\n      <td>0.315898</td>\n      <td>0.271189</td>\n      <td>9883.984865</td>\n    </tr>\n    <tr>\n      <th>3</th>\n      <td>2019-10-03</td>\n      <td>0.008117</td>\n      <td>145.077543</td>\n      <td>0.007740</td>\n      <td>49.492784</td>\n      <td>0.003313</td>\n      <td>82.798214</td>\n      <td>0.003749</td>\n      <td>57.008000</td>\n      <td>28778.353338</td>\n      <td>981.982578</td>\n      <td>22659.894262</td>\n      <td>19461.315968</td>\n      <td>0.400358</td>\n      <td>0.013661</td>\n      <td>0.315239</td>\n      <td>0.270741</td>\n      <td>9937.453474</td>\n    </tr>\n    <tr>\n      <th>4</th>\n      <td>2019-10-04</td>\n      <td>0.013058</td>\n      <td>146.971992</td>\n      <td>0.006696</td>\n      <td>49.824166</td>\n      <td>0.001651</td>\n      <td>82.934909</td>\n      <td>0.000170</td>\n      <td>57.017679</td>\n      <td>29154.146450</td>\n      <td>988.557491</td>\n      <td>22697.304465</td>\n      <td>19464.620096</td>\n      <td>0.403213</td>\n      <td>0.013672</td>\n      <td>0.313912</td>\n      <td>0.269203</td>\n      <td>9995.943607</td>\n    </tr>\n    <tr>\n      <th>...</th>\n      <td>...</td>\n      <td>...</td>\n      <td>...</td>\n      <td>...</td>\n      <td>...</td>\n      <td>...</td>\n      <td>...</td>\n      <td>...</td>\n      <td>...</td>\n      <td>...</td>\n      <td>...</td>\n      <td>...</td>\n      <td>...</td>\n      <td>...</td>\n      <td>...</td>\n      <td>...</td>\n      <td>...</td>\n      <td>...</td>\n    </tr>\n    <tr>\n      <th>269</th>\n      <td>2020-10-22</td>\n      <td>0.007085</td>\n      <td>176.260000</td>\n      <td>0.000187</td>\n      <td>53.370000</td>\n      <td>-0.001710</td>\n      <td>87.590000</td>\n      <td>-0.001372</td>\n      <td>58.210000</td>\n      <td>34454.004092</td>\n      <td>25178.515384</td>\n      <td>23587.329501</td>\n      <td>22168.892845</td>\n      <td>0.326923</td>\n      <td>0.238911</td>\n      <td>0.223813</td>\n      <td>0.210354</td>\n      <td>10877.819935</td>\n    </tr>\n    <tr>\n      <th>270</th>\n      <td>2020-10-23</td>\n      <td>0.003291</td>\n      <td>176.840000</td>\n      <td>0.005621</td>\n      <td>53.670000</td>\n      <td>0.001256</td>\n      <td>87.700000</td>\n      <td>0.001031</td>\n      <td>58.270000</td>\n      <td>34567.378212</td>\n      <td>25320.047229</td>\n      <td>23616.951675</td>\n      <td>22191.743447</td>\n      <td>0.327045</td>\n      <td>0.239555</td>\n      <td>0.223442</td>\n      <td>0.209958</td>\n      <td>10909.546385</td>\n    </tr>\n    <tr>\n      <th>271</th>\n      <td>2020-10-26</td>\n      <td>-0.018152</td>\n      <td>173.630000</td>\n      <td>-0.016769</td>\n      <td>52.770000</td>\n      <td>0.001482</td>\n      <td>87.830000</td>\n      <td>0.000858</td>\n      <td>58.320000</td>\n      <td>33939.911100</td>\n      <td>24895.451692</td>\n      <td>23651.959699</td>\n      <td>22210.785616</td>\n      <td>0.324169</td>\n      <td>0.237783</td>\n      <td>0.225906</td>\n      <td>0.212141</td>\n      <td>10806.535384</td>\n    </tr>\n    <tr>\n      <th>272</th>\n      <td>2020-10-27</td>\n      <td>-0.004032</td>\n      <td>172.930000</td>\n      <td>-0.003601</td>\n      <td>52.580000</td>\n      <td>0.002391</td>\n      <td>88.040000</td>\n      <td>0.001886</td>\n      <td>58.430000</td>\n      <td>33803.080266</td>\n      <td>24805.814856</td>\n      <td>23708.511123</td>\n      <td>22252.678387</td>\n      <td>0.323258</td>\n      <td>0.237217</td>\n      <td>0.226724</td>\n      <td>0.212802</td>\n      <td>10793.321294</td>\n    </tr>\n    <tr>\n      <th>273</th>\n      <td>2020-10-28</td>\n      <td>-0.033135</td>\n      <td>167.200000</td>\n      <td>-0.028528</td>\n      <td>51.080000</td>\n      <td>-0.001363</td>\n      <td>87.920000</td>\n      <td>-0.000171</td>\n      <td>58.420000</td>\n      <td>32683.022150</td>\n      <td>24098.155627</td>\n      <td>23676.196024</td>\n      <td>22248.869954</td>\n      <td>0.318218</td>\n      <td>0.234632</td>\n      <td>0.230523</td>\n      <td>0.216626</td>\n      <td>10600.942819</td>\n    </tr>\n  </tbody>\n</table>\n<p>274 rows × 18 columns</p>\n</div>"
     },
     "metadata": {},
     "execution_count": 8
    }
   ],
   "source": [
    "df"
   ]
  },
  {
   "cell_type": "code",
   "execution_count": null,
   "metadata": {},
   "outputs": [],
   "source": []
  },
  {
   "cell_type": "code",
   "execution_count": null,
   "metadata": {},
   "outputs": [],
   "source": []
  }
 ],
 "metadata": {
  "kernelspec": {
   "name": "Python 3.8.5 64-bit ('investmentresearch': conda)",
   "display_name": "Python 3.8.5 64-bit ('investmentresearch': conda)",
   "metadata": {
    "interpreter": {
     "hash": "3f5416aadc2cf0f263d1ded4c1433cebfac8cc1fca1a8bf76cd0977e5ffd07b4"
    }
   }
  },
  "language_info": {
   "codemirror_mode": {
    "name": "ipython",
    "version": 3
   },
   "file_extension": ".py",
   "mimetype": "text/x-python",
   "name": "python",
   "nbconvert_exporter": "python",
   "pygments_lexer": "ipython3",
   "version": "3.8.5-final"
  }
 },
 "nbformat": 4,
 "nbformat_minor": 4
}