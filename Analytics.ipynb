{
 "cells": [
  {
   "cell_type": "code",
   "execution_count": 10,
   "metadata": {},
   "outputs": [],
   "source": [
    "import numpy as np\n",
    "import pandas as pd\n",
    "from math import isnan\n",
    "from datetime import datetime,date\n",
    "# Saved Tiingo API Token in 'token' variable in apiToken.py file\n",
    "from apiToken import token"
   ]
  },
  {
   "cell_type": "code",
   "execution_count": 11,
   "metadata": {
    "tags": []
   },
   "outputs": [],
   "source": [
    "# Getting prices from Tiingo\n",
    "def getPrice(token,ticker,startDate,endDate):\n",
    "    return pd.read_csv('https://api.tiingo.com/tiingo/daily/'+ticker+'/prices?startDate='+startDate+'&endDate='+endDate+'&token='+token+'&format=csv')\n",
    "today = str(date.today())\n",
    "bndPrice = getPrice(token,'bnd','2019-09-30',today)\n",
    "bndxPrice = getPrice(token,'bndx','2019-09-30',today)\n",
    "vtiPrice = getPrice(token,'vti','2019-09-30',today)\n",
    "vxusPrice = getPrice(token,'vxus','2019-09-30',today)\n",
    "vtiPrice['returns'] = (vtiPrice.adjClose)/vtiPrice.adjClose.shift(1) - 1\n",
    "vxusPrice['returns'] = (vxusPrice.adjClose)/vxusPrice.adjClose.shift(1) - 1\n",
    "bndPrice['returns'] = (bndPrice.adjClose)/bndPrice.adjClose.shift(1) - 1\n",
    "bndxPrice['returns'] = (bndxPrice.adjClose)/bndxPrice.adjClose.shift(1) - 1\n",
    "bndPrice = bndPrice.loc[:,['date','returns','adjClose']]\n",
    "bndxPrice = bndxPrice.loc[:,['date','returns','adjClose']]\n",
    "vtiPrice = vtiPrice.loc[:,['date','returns','adjClose']]\n",
    "vxusPrice = vxusPrice.loc[:,['date','returns','adjClose']]"
   ]
  },
  {
   "cell_type": "code",
   "execution_count": 14,
   "metadata": {},
   "outputs": [],
   "source": [
    "import os\n",
    "fileName = input(\"Please enter the name of the file you'd like to use.\")\n",
    "while not os.path.isfile(fileName):\n",
    "    fileName = input(\"Whoops! No such file! Please enter the name of the file you'd like to use.\")"
   ]
  },
  {
   "cell_type": "code",
   "execution_count": 17,
   "metadata": {},
   "outputs": [],
   "source": [
    "# Reading saved data (Market cap is in billions)\n",
    "vti = pd.read_csv('Data/vti_MC_data.csv')\n",
    "vxus = pd.read_csv('Data/vxus_MC_data.csv')\n",
    "bnd = pd.read_csv('Data/bnd_MC_data.csv')\n",
    "bndx = pd.read_csv('Data/bndx_MC_data.csv')"
   ]
  },
  {
   "cell_type": "code",
   "execution_count": 18,
   "metadata": {
    "tags": []
   },
   "outputs": [],
   "source": [
    "df = vtiPrice.rename(columns={\"returns\":\"VTI_Return\",\"adjClose\":\"VTI_Price\"}).merge(vxusPrice.rename(columns={\"returns\":\"VXUS_Return\",\"adjClose\":\"VXUS_Price\"}),on='date',how='outer').merge(bndPrice.rename(columns={\"returns\":\"BND_Return\",\"adjClose\":\"BND_Price\"}),on='date',how='outer').merge(bndxPrice.rename(columns={\"returns\":\"BNDX_Return\",\"adjClose\":\"BNDX_Price\"}),on='date',how='outer').merge(vti.rename(columns={\"Market Cap\":\"VTI_MarketCap\"}),on='date',how='left').merge(vxus.rename(columns={\"Market Cap\":\"VXUS_MarketCap\"}),on='date',how='left').merge(bnd.rename(columns={\"Market Cap\":\"BND_MarketCap\"}),on='date',how='left').merge(bndx.rename(columns={\"Market Cap\":\"BNDX_MarketCap\"}),on='date',how='left').sort_values(by='date').reset_index(drop=True)"
   ]
  },
  {
   "cell_type": "code",
   "execution_count": 19,
   "metadata": {
    "tags": []
   },
   "outputs": [],
   "source": [
    "etfs = ['VTI','VXUS','BND','BNDX']\n",
    "for etf in etfs:\n",
    "    list = []\n",
    "    i = 0\n",
    "    value = 999\n",
    "    for mc,ret in zip(df[etf+'_MarketCap'],df[etf+'_Return']):\n",
    "        if i>0:\n",
    "            value = (ret+1) * list[i-1]\n",
    "        list.append(mc) if not isnan(mc) else list.append(value)\n",
    "        i+=1\n",
    "    df[etf+'_MarketCap'] = list"
   ]
  },
  {
   "cell_type": "code",
   "execution_count": 20,
   "metadata": {},
   "outputs": [],
   "source": [
    "df['VTI_weight'] = df['VTI_MarketCap']/(df.VTI_MarketCap+df.VXUS_MarketCap+df.BND_MarketCap+df.BNDX_MarketCap)\n",
    "df['VXUS_weight'] = df['VXUS_MarketCap']/(df.VTI_MarketCap+df.VXUS_MarketCap+df.BND_MarketCap+df.BNDX_MarketCap)\n",
    "df['BND_weight'] = df['BND_MarketCap']/(df.VTI_MarketCap+df.VXUS_MarketCap+df.BND_MarketCap+df.BNDX_MarketCap)\n",
    "df['BNDX_weight'] = df['BNDX_MarketCap']/(df.VTI_MarketCap+df.VXUS_MarketCap+df.BND_MarketCap+df.BNDX_MarketCap)\n",
    "\n",
    "#Enter starting amount\n",
    "startingAmount = 10000\n",
    "\n",
    "portfolioVal = [0 for i in range(len(df))]\n",
    "portfolioVal[0] = startingAmount\n",
    "df['Portfolio_Value'] = portfolioVal"
   ]
  },
  {
   "cell_type": "code",
   "execution_count": 21,
   "metadata": {
    "tags": []
   },
   "outputs": [],
   "source": [
    "i=0\n",
    "list2 = []\n",
    "portfolioRet = 1\n",
    "for vtiR,vxusR,bndR,bndxR,vtiW,vxusW,bndW,bndxW,portfolioValue in zip(df.VTI_Return,df.VXUS_Return,df.BND_Return,df.BNDX_Return,df.VTI_weight.shift(1),df.VXUS_weight.shift(1),df.BND_weight.shift(1),df.BNDX_weight.shift(1),df.Portfolio_Value):\n",
    "    if i>0:\n",
    "        portfolioRet = (vtiR*vtiW+vxusR*vxusW+bndR*bndW+bndxR*bndxW)+1\n",
    "    list2.append(portfolioValue) if portfolioValue != 0 else list2.append(list2[i-1]*portfolioRet)\n",
    "    i+=1\n",
    "df['Portfolio_Value'] = list2"
   ]
  },
  {
   "cell_type": "code",
   "execution_count": 22,
   "metadata": {},
   "outputs": [
    {
     "output_type": "execute_result",
     "data": {
      "text/plain": [
       "           date  VTI_Return   VTI_Price  VXUS_Return  VXUS_Price  BND_Return  \\\n",
       "0    2019-09-30         NaN  148.218599          NaN   50.350477         NaN   \n",
       "1    2019-10-01   -0.013046  146.284886    -0.009098   49.892391    0.000967   \n",
       "2    2019-10-02   -0.016238  143.909462    -0.015628   49.112670    0.002253   \n",
       "3    2019-10-03    0.008117  145.077543     0.007740   49.492784    0.003313   \n",
       "4    2019-10-04    0.013058  146.971992     0.006696   49.824166    0.001651   \n",
       "..          ...         ...         ...          ...         ...         ...   \n",
       "277  2020-11-03    0.019202  171.970000     0.019350   52.680000   -0.000228   \n",
       "278  2020-11-04    0.021806  175.720000     0.015566   53.500000    0.006855   \n",
       "279  2020-11-05    0.020658  179.350000     0.021682   54.660000    0.001021   \n",
       "280  2020-11-06   -0.000502  179.260000     0.003110   54.830000   -0.002267   \n",
       "281  2020-11-09    0.011882  181.390000     0.020974   55.980000   -0.004658   \n",
       "\n",
       "     BND_Price  BNDX_Return  BNDX_Price  VTI_MarketCap  VXUS_MarketCap  \\\n",
       "0    82.118147          NaN   56.844145   29401.430000      999.000000   \n",
       "1    82.197567    -0.001668   56.749356   29017.848430      989.911150   \n",
       "2    82.382763     0.000000   56.749356   28546.646704      974.440767   \n",
       "3    82.655682     0.003749   56.962118   28778.353338      981.982578   \n",
       "4    82.792142     0.000170   56.971789   29154.146450      988.557491   \n",
       "..         ...          ...         ...            ...             ...   \n",
       "277  87.530000    -0.000686   58.310000   33615.426550    24852.992138   \n",
       "278  88.130000     0.002401   58.450000   34348.448877    25239.845850   \n",
       "279  88.220000     0.000171   58.460000   35058.014489    25787.102321   \n",
       "280  88.020000    -0.000684   58.420000   35040.421954    25867.303700   \n",
       "281  87.610000    -0.006505   58.040000   35456.778635    26409.842443   \n",
       "\n",
       "     BND_MarketCap  BNDX_MarketCap  VTI_weight  VXUS_weight  BND_weight  \\\n",
       "0     22512.530000    19421.010000    0.406468     0.013811    0.311230   \n",
       "1     22534.302867    19388.625144    0.403414     0.013762    0.313278   \n",
       "2     22585.073856    19388.625144    0.399283     0.013630    0.315898   \n",
       "3     22659.894262    19461.315968    0.400358     0.013661    0.315239   \n",
       "4     22697.304465    19464.620096    0.403213     0.013672    0.313912   \n",
       "..             ...             ...         ...          ...         ...   \n",
       "277   23611.818021    22224.864550    0.322280     0.238272    0.226373   \n",
       "278   23773.672138    22278.225570    0.325146     0.238923    0.225044   \n",
       "279   23797.950255    22282.037071    0.327874     0.241170    0.222567   \n",
       "280   23743.998883    22266.791066    0.327730     0.241935    0.222076   \n",
       "281   23633.398570    22121.954013    0.329457     0.245395    0.219596   \n",
       "\n",
       "     BNDX_weight  Portfolio_Value  \n",
       "0       0.268491     10000.000000  \n",
       "1       0.269546      9944.247162  \n",
       "2       0.271189      9883.984865  \n",
       "3       0.270741      9937.453474  \n",
       "4       0.269203      9995.943607  \n",
       "..           ...              ...  \n",
       "277     0.213076     10765.970731  \n",
       "278     0.210888     10903.773699  \n",
       "279     0.208389     11036.397335  \n",
       "280     0.208259     11035.717292  \n",
       "281     0.205552     11108.325522  \n",
       "\n",
       "[282 rows x 18 columns]"
      ],
      "text/html": "<div>\n<style scoped>\n    .dataframe tbody tr th:only-of-type {\n        vertical-align: middle;\n    }\n\n    .dataframe tbody tr th {\n        vertical-align: top;\n    }\n\n    .dataframe thead th {\n        text-align: right;\n    }\n</style>\n<table border=\"1\" class=\"dataframe\">\n  <thead>\n    <tr style=\"text-align: right;\">\n      <th></th>\n      <th>date</th>\n      <th>VTI_Return</th>\n      <th>VTI_Price</th>\n      <th>VXUS_Return</th>\n      <th>VXUS_Price</th>\n      <th>BND_Return</th>\n      <th>BND_Price</th>\n      <th>BNDX_Return</th>\n      <th>BNDX_Price</th>\n      <th>VTI_MarketCap</th>\n      <th>VXUS_MarketCap</th>\n      <th>BND_MarketCap</th>\n      <th>BNDX_MarketCap</th>\n      <th>VTI_weight</th>\n      <th>VXUS_weight</th>\n      <th>BND_weight</th>\n      <th>BNDX_weight</th>\n      <th>Portfolio_Value</th>\n    </tr>\n  </thead>\n  <tbody>\n    <tr>\n      <th>0</th>\n      <td>2019-09-30</td>\n      <td>NaN</td>\n      <td>148.218599</td>\n      <td>NaN</td>\n      <td>50.350477</td>\n      <td>NaN</td>\n      <td>82.118147</td>\n      <td>NaN</td>\n      <td>56.844145</td>\n      <td>29401.430000</td>\n      <td>999.000000</td>\n      <td>22512.530000</td>\n      <td>19421.010000</td>\n      <td>0.406468</td>\n      <td>0.013811</td>\n      <td>0.311230</td>\n      <td>0.268491</td>\n      <td>10000.000000</td>\n    </tr>\n    <tr>\n      <th>1</th>\n      <td>2019-10-01</td>\n      <td>-0.013046</td>\n      <td>146.284886</td>\n      <td>-0.009098</td>\n      <td>49.892391</td>\n      <td>0.000967</td>\n      <td>82.197567</td>\n      <td>-0.001668</td>\n      <td>56.749356</td>\n      <td>29017.848430</td>\n      <td>989.911150</td>\n      <td>22534.302867</td>\n      <td>19388.625144</td>\n      <td>0.403414</td>\n      <td>0.013762</td>\n      <td>0.313278</td>\n      <td>0.269546</td>\n      <td>9944.247162</td>\n    </tr>\n    <tr>\n      <th>2</th>\n      <td>2019-10-02</td>\n      <td>-0.016238</td>\n      <td>143.909462</td>\n      <td>-0.015628</td>\n      <td>49.112670</td>\n      <td>0.002253</td>\n      <td>82.382763</td>\n      <td>0.000000</td>\n      <td>56.749356</td>\n      <td>28546.646704</td>\n      <td>974.440767</td>\n      <td>22585.073856</td>\n      <td>19388.625144</td>\n      <td>0.399283</td>\n      <td>0.013630</td>\n      <td>0.315898</td>\n      <td>0.271189</td>\n      <td>9883.984865</td>\n    </tr>\n    <tr>\n      <th>3</th>\n      <td>2019-10-03</td>\n      <td>0.008117</td>\n      <td>145.077543</td>\n      <td>0.007740</td>\n      <td>49.492784</td>\n      <td>0.003313</td>\n      <td>82.655682</td>\n      <td>0.003749</td>\n      <td>56.962118</td>\n      <td>28778.353338</td>\n      <td>981.982578</td>\n      <td>22659.894262</td>\n      <td>19461.315968</td>\n      <td>0.400358</td>\n      <td>0.013661</td>\n      <td>0.315239</td>\n      <td>0.270741</td>\n      <td>9937.453474</td>\n    </tr>\n    <tr>\n      <th>4</th>\n      <td>2019-10-04</td>\n      <td>0.013058</td>\n      <td>146.971992</td>\n      <td>0.006696</td>\n      <td>49.824166</td>\n      <td>0.001651</td>\n      <td>82.792142</td>\n      <td>0.000170</td>\n      <td>56.971789</td>\n      <td>29154.146450</td>\n      <td>988.557491</td>\n      <td>22697.304465</td>\n      <td>19464.620096</td>\n      <td>0.403213</td>\n      <td>0.013672</td>\n      <td>0.313912</td>\n      <td>0.269203</td>\n      <td>9995.943607</td>\n    </tr>\n    <tr>\n      <th>...</th>\n      <td>...</td>\n      <td>...</td>\n      <td>...</td>\n      <td>...</td>\n      <td>...</td>\n      <td>...</td>\n      <td>...</td>\n      <td>...</td>\n      <td>...</td>\n      <td>...</td>\n      <td>...</td>\n      <td>...</td>\n      <td>...</td>\n      <td>...</td>\n      <td>...</td>\n      <td>...</td>\n      <td>...</td>\n      <td>...</td>\n    </tr>\n    <tr>\n      <th>277</th>\n      <td>2020-11-03</td>\n      <td>0.019202</td>\n      <td>171.970000</td>\n      <td>0.019350</td>\n      <td>52.680000</td>\n      <td>-0.000228</td>\n      <td>87.530000</td>\n      <td>-0.000686</td>\n      <td>58.310000</td>\n      <td>33615.426550</td>\n      <td>24852.992138</td>\n      <td>23611.818021</td>\n      <td>22224.864550</td>\n      <td>0.322280</td>\n      <td>0.238272</td>\n      <td>0.226373</td>\n      <td>0.213076</td>\n      <td>10765.970731</td>\n    </tr>\n    <tr>\n      <th>278</th>\n      <td>2020-11-04</td>\n      <td>0.021806</td>\n      <td>175.720000</td>\n      <td>0.015566</td>\n      <td>53.500000</td>\n      <td>0.006855</td>\n      <td>88.130000</td>\n      <td>0.002401</td>\n      <td>58.450000</td>\n      <td>34348.448877</td>\n      <td>25239.845850</td>\n      <td>23773.672138</td>\n      <td>22278.225570</td>\n      <td>0.325146</td>\n      <td>0.238923</td>\n      <td>0.225044</td>\n      <td>0.210888</td>\n      <td>10903.773699</td>\n    </tr>\n    <tr>\n      <th>279</th>\n      <td>2020-11-05</td>\n      <td>0.020658</td>\n      <td>179.350000</td>\n      <td>0.021682</td>\n      <td>54.660000</td>\n      <td>0.001021</td>\n      <td>88.220000</td>\n      <td>0.000171</td>\n      <td>58.460000</td>\n      <td>35058.014489</td>\n      <td>25787.102321</td>\n      <td>23797.950255</td>\n      <td>22282.037071</td>\n      <td>0.327874</td>\n      <td>0.241170</td>\n      <td>0.222567</td>\n      <td>0.208389</td>\n      <td>11036.397335</td>\n    </tr>\n    <tr>\n      <th>280</th>\n      <td>2020-11-06</td>\n      <td>-0.000502</td>\n      <td>179.260000</td>\n      <td>0.003110</td>\n      <td>54.830000</td>\n      <td>-0.002267</td>\n      <td>88.020000</td>\n      <td>-0.000684</td>\n      <td>58.420000</td>\n      <td>35040.421954</td>\n      <td>25867.303700</td>\n      <td>23743.998883</td>\n      <td>22266.791066</td>\n      <td>0.327730</td>\n      <td>0.241935</td>\n      <td>0.222076</td>\n      <td>0.208259</td>\n      <td>11035.717292</td>\n    </tr>\n    <tr>\n      <th>281</th>\n      <td>2020-11-09</td>\n      <td>0.011882</td>\n      <td>181.390000</td>\n      <td>0.020974</td>\n      <td>55.980000</td>\n      <td>-0.004658</td>\n      <td>87.610000</td>\n      <td>-0.006505</td>\n      <td>58.040000</td>\n      <td>35456.778635</td>\n      <td>26409.842443</td>\n      <td>23633.398570</td>\n      <td>22121.954013</td>\n      <td>0.329457</td>\n      <td>0.245395</td>\n      <td>0.219596</td>\n      <td>0.205552</td>\n      <td>11108.325522</td>\n    </tr>\n  </tbody>\n</table>\n<p>282 rows × 18 columns</p>\n</div>"
     },
     "metadata": {},
     "execution_count": 22
    }
   ],
   "source": [
    "df"
   ]
  },
  {
   "cell_type": "code",
   "execution_count": null,
   "metadata": {},
   "outputs": [],
   "source": []
  },
  {
   "cell_type": "code",
   "execution_count": null,
   "metadata": {},
   "outputs": [],
   "source": []
  }
 ],
 "metadata": {
  "kernelspec": {
   "name": "Python 3.8.5 64-bit ('investmentresearch': conda)",
   "display_name": "Python 3.8.5 64-bit ('investmentresearch': conda)",
   "metadata": {
    "interpreter": {
     "hash": "3f5416aadc2cf0f263d1ded4c1433cebfac8cc1fca1a8bf76cd0977e5ffd07b4"
    }
   }
  },
  "language_info": {
   "codemirror_mode": {
    "name": "ipython",
    "version": 3
   },
   "file_extension": ".py",
   "mimetype": "text/x-python",
   "name": "python",
   "nbconvert_exporter": "python",
   "pygments_lexer": "ipython3",
   "version": "3.8.5-final"
  }
 },
 "nbformat": 4,
 "nbformat_minor": 4
}