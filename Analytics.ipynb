{
 "cells": [
  {
   "cell_type": "code",
   "execution_count": 1,
   "metadata": {},
   "outputs": [],
   "source": [
    "import numpy as np\n",
    "import pandas as pd\n",
    "from math import isnan\n",
    "from datetime import datetime,date\n",
    "# Saved Tiingo API Token in 'token' variable in apiToken.py file\n",
    "from apiToken import token"
   ]
  },
  {
   "cell_type": "code",
   "execution_count": 2,
   "metadata": {
    "tags": []
   },
   "outputs": [],
   "source": [
    "# Getting prices from Tiingo\n",
    "def getPrice(token,ticker,startDate,endDate):\n",
    "    return pd.read_csv('https://api.tiingo.com/tiingo/daily/'+ticker+'/prices?startDate='+startDate+'&endDate='+endDate+'&token='+token+'&format=csv')\n",
    "today = str(date.today())\n",
    "bndPrice = getPrice(token,'bnd','2019-09-30',today)\n",
    "bndxPrice = getPrice(token,'bndx','2019-09-30',today)\n",
    "vtiPrice = getPrice(token,'vti','2019-09-30',today)\n",
    "vxusPrice = getPrice(token,'vxus','2019-09-30',today)\n",
    "vtiPrice['returns'] = (vtiPrice.adjClose)/vtiPrice.adjClose.shift(1) - 1\n",
    "vxusPrice['returns'] = (vxusPrice.adjClose)/vxusPrice.adjClose.shift(1) - 1\n",
    "bndPrice['returns'] = (bndPrice.adjClose)/bndPrice.adjClose.shift(1) - 1\n",
    "bndxPrice['returns'] = (bndxPrice.adjClose)/bndxPrice.adjClose.shift(1) - 1\n",
    "bndPrice = bndPrice.loc[:,['date','returns','adjClose']]\n",
    "bndxPrice = bndxPrice.loc[:,['date','returns','adjClose']]\n",
    "vtiPrice = vtiPrice.loc[:,['date','returns','adjClose']]\n",
    "vxusPrice = vxusPrice.loc[:,['date','returns','adjClose']]"
   ]
  },
  {
   "cell_type": "code",
   "execution_count": 3,
   "metadata": {},
   "outputs": [],
   "source": [
    "# Reading saved data (Market cap is in billions)\n",
    "vti = pd.read_csv('Data/vti_MC_Data.csv')\n",
    "vxus = pd.read_csv('Data/vxus_MC_Data.csv')\n",
    "bnd = pd.read_csv('Data/bnd_MC_Data.csv')\n",
    "bndx = pd.read_csv('Data/bndx_MC_Data.csv')"
   ]
  },
  {
   "cell_type": "code",
   "execution_count": 4,
   "metadata": {
    "tags": []
   },
   "outputs": [],
   "source": [
    "df = vtiPrice.rename(columns={\"returns\":\"VTI_Return\",\"adjClose\":\"VTI_Price\"}).merge(vxusPrice.rename(columns={\"returns\":\"VXUS_Return\",\"adjClose\":\"VXUS_Price\"}),on='date',how='outer').merge(bndPrice.rename(columns={\"returns\":\"BND_Return\",\"adjClose\":\"BND_Price\"}),on='date',how='outer').merge(bndxPrice.rename(columns={\"returns\":\"BNDX_Return\",\"adjClose\":\"BNDX_Price\"}),on='date',how='outer').merge(vti.rename(columns={\"Market Cap\":\"VTI_MarketCap\"}),on='date',how='left').merge(vxus.rename(columns={\"Market Cap\":\"VXUS_MarketCap\"}),on='date',how='left').merge(bnd.rename(columns={\"Market Cap\":\"BND_MarketCap\"}),on='date',how='left').merge(bndx.rename(columns={\"Market Cap\":\"BNDX_MarketCap\"}),on='date',how='left').sort_values(by='date').reset_index(drop=True)"
   ]
  },
  {
   "cell_type": "code",
   "execution_count": 5,
   "metadata": {
    "tags": []
   },
   "outputs": [],
   "source": [
    "etfs = ['VTI','VXUS','BND','BNDX']\n",
    "for etf in etfs:\n",
    "    list = []\n",
    "    i = 0\n",
    "    value = 999\n",
    "    for mc,ret in zip(df[etf+'_MarketCap'],df[etf+'_Return']):\n",
    "        if i>0:\n",
    "            value = (ret+1) * list[i-1]\n",
    "        list.append(mc) if not isnan(mc) else list.append(value)\n",
    "        i+=1\n",
    "    df[etf+'_MarketCap'] = list"
   ]
  },
  {
   "cell_type": "code",
   "execution_count": 6,
   "metadata": {},
   "outputs": [],
   "source": [
    "df['VTI_weight'] = df['VTI_MarketCap']/(df.VTI_MarketCap+df.VXUS_MarketCap+df.BND_MarketCap+df.BNDX_MarketCap)\n",
    "df['VXUS_weight'] = df['VXUS_MarketCap']/(df.VTI_MarketCap+df.VXUS_MarketCap+df.BND_MarketCap+df.BNDX_MarketCap)\n",
    "df['BND_weight'] = df['BND_MarketCap']/(df.VTI_MarketCap+df.VXUS_MarketCap+df.BND_MarketCap+df.BNDX_MarketCap)\n",
    "df['BNDX_weight'] = df['BNDX_MarketCap']/(df.VTI_MarketCap+df.VXUS_MarketCap+df.BND_MarketCap+df.BNDX_MarketCap)\n",
    "\n",
    "#Enter starting amount\n",
    "startingAmount = 10000\n",
    "\n",
    "portfolioVal = [0 for i in range(len(df))]\n",
    "portfolioVal[0] = startingAmount\n",
    "df['Portfolio_Value'] = portfolioVal"
   ]
  },
  {
   "cell_type": "code",
   "execution_count": 7,
   "metadata": {
    "tags": []
   },
   "outputs": [],
   "source": [
    "i=0\n",
    "list2 = []\n",
    "portfolioRet = 1\n",
    "for vtiR,vxusR,bndR,bndxR,vtiW,vxusW,bndW,bndxW,portfolioValue in zip(df.VTI_Return,df.VXUS_Return,df.BND_Return,df.BNDX_Return,df.VTI_weight.shift(1),df.VXUS_weight.shift(1),df.BND_weight.shift(1),df.BNDX_weight.shift(1),df.Portfolio_Value):\n",
    "    if i>0:\n",
    "        portfolioRet = (vtiR*vtiW+vxusR*vxusW+bndR*bndW+bndxR*bndxW)+1\n",
    "    list2.append(portfolioValue) if portfolioValue != 0 else list2.append(list2[i-1]*portfolioRet)\n",
    "    i+=1\n",
    "df['Portfolio_Value'] = list2"
   ]
  },
  {
   "cell_type": "code",
   "execution_count": 8,
   "metadata": {},
   "outputs": [
    {
     "output_type": "execute_result",
     "data": {
      "text/plain": "           date  VTI_Return   VTI_Price  VXUS_Return  VXUS_Price  BND_Return  \\\n0    2019-09-30         NaN  148.817031          NaN   50.677485         NaN   \n1    2019-10-01   -0.013046  146.875511    -0.009098   50.216424    0.000967   \n2    2019-10-02   -0.016238  144.490496    -0.015628   49.431639    0.002253   \n3    2019-10-03    0.008117  145.663292     0.007740   49.814222    0.003313   \n4    2019-10-04    0.013058  147.565391     0.006696   50.147755    0.001651   \n..          ...         ...         ...          ...         ...         ...   \n212  2020-08-03    0.008700  166.960000     0.014450   51.950000   -0.000349   \n213  2020-08-04    0.003953  167.620000     0.007700   52.350000    0.002128   \n214  2020-08-05    0.007278  168.840000     0.005922   52.660000   -0.001341   \n215  2020-08-06    0.004857  169.660000     0.003038   52.820000    0.001567   \n216  2020-08-07    0.000825  169.800000    -0.008898   52.350000   -0.001118   \n\n     BND_Price  BNDX_Return  BNDX_Price  VTI_MarketCap  VXUS_MarketCap  \\\n0    82.542422          NaN   56.980979   29401.430000    23547.228000   \n1    82.622252    -0.001668   56.885962   29017.848430    23332.996541   \n2    82.808405     0.000000   56.885962   28546.646704    22968.347250   \n3    83.082734     0.003749   57.099236   28778.353338    23146.113779   \n4    83.219899     0.000170   57.108930   29154.146450    23301.089728   \n..         ...          ...         ...            ...             ...   \n212  89.270000    -0.000215   58.170000   32499.167720    24290.505272   \n213  89.460000     0.002579   58.320000   32627.638316    24477.535149   \n214  89.340000    -0.002229   58.190000   32865.114266    24622.483304   \n215  89.480000     0.001203   58.260000   33024.729249    24697.295255   \n216  89.380000    -0.001888   58.150000   33051.980588    24477.535149   \n\n     BND_MarketCap  BNDX_MarketCap  VTI_weight  VXUS_weight  BND_weight  \\\n0     22512.530000    19421.010000    0.309873     0.248173    0.237268   \n1     22534.302867    19388.625144    0.307804     0.247503    0.239030   \n2     22585.073856    19388.625144    0.305349     0.245680    0.241581   \n3     22659.894262    19461.315968    0.306004     0.246116    0.240946   \n4     22697.304465    19464.620096    0.308127     0.246267    0.239886   \n..             ...             ...         ...          ...         ...   \n212   23804.044529    21036.126119    0.319780     0.239010    0.234223   \n213   23854.708453    21090.370900    0.319721     0.239858    0.233755   \n214   23822.710185    21043.358757    0.321094     0.240563    0.232749   \n215   23860.041498    21068.672988    0.321719     0.240595    0.232439   \n216   23833.376275    21028.893482    0.322799     0.239058    0.232766   \n\n     BNDX_weight  Portfolio_Value  \n0       0.204685     10000.000000  \n1       0.205663      9935.875746  \n2       0.207390      9853.133140  \n3       0.206935      9911.835869  \n4       0.205720      9972.066703  \n..           ...              ...  \n212     0.206988     10678.033634  \n213     0.206667     10722.205141  \n214     0.205595     10754.084179  \n215     0.205246     10785.296959  \n216     0.205377     10758.089260  \n\n[217 rows x 18 columns]",
      "text/html": "<div>\n<style scoped>\n    .dataframe tbody tr th:only-of-type {\n        vertical-align: middle;\n    }\n\n    .dataframe tbody tr th {\n        vertical-align: top;\n    }\n\n    .dataframe thead th {\n        text-align: right;\n    }\n</style>\n<table border=\"1\" class=\"dataframe\">\n  <thead>\n    <tr style=\"text-align: right;\">\n      <th></th>\n      <th>date</th>\n      <th>VTI_Return</th>\n      <th>VTI_Price</th>\n      <th>VXUS_Return</th>\n      <th>VXUS_Price</th>\n      <th>BND_Return</th>\n      <th>BND_Price</th>\n      <th>BNDX_Return</th>\n      <th>BNDX_Price</th>\n      <th>VTI_MarketCap</th>\n      <th>VXUS_MarketCap</th>\n      <th>BND_MarketCap</th>\n      <th>BNDX_MarketCap</th>\n      <th>VTI_weight</th>\n      <th>VXUS_weight</th>\n      <th>BND_weight</th>\n      <th>BNDX_weight</th>\n      <th>Portfolio_Value</th>\n    </tr>\n  </thead>\n  <tbody>\n    <tr>\n      <th>0</th>\n      <td>2019-09-30</td>\n      <td>NaN</td>\n      <td>148.817031</td>\n      <td>NaN</td>\n      <td>50.677485</td>\n      <td>NaN</td>\n      <td>82.542422</td>\n      <td>NaN</td>\n      <td>56.980979</td>\n      <td>29401.430000</td>\n      <td>23547.228000</td>\n      <td>22512.530000</td>\n      <td>19421.010000</td>\n      <td>0.309873</td>\n      <td>0.248173</td>\n      <td>0.237268</td>\n      <td>0.204685</td>\n      <td>10000.000000</td>\n    </tr>\n    <tr>\n      <th>1</th>\n      <td>2019-10-01</td>\n      <td>-0.013046</td>\n      <td>146.875511</td>\n      <td>-0.009098</td>\n      <td>50.216424</td>\n      <td>0.000967</td>\n      <td>82.622252</td>\n      <td>-0.001668</td>\n      <td>56.885962</td>\n      <td>29017.848430</td>\n      <td>23332.996541</td>\n      <td>22534.302867</td>\n      <td>19388.625144</td>\n      <td>0.307804</td>\n      <td>0.247503</td>\n      <td>0.239030</td>\n      <td>0.205663</td>\n      <td>9935.875746</td>\n    </tr>\n    <tr>\n      <th>2</th>\n      <td>2019-10-02</td>\n      <td>-0.016238</td>\n      <td>144.490496</td>\n      <td>-0.015628</td>\n      <td>49.431639</td>\n      <td>0.002253</td>\n      <td>82.808405</td>\n      <td>0.000000</td>\n      <td>56.885962</td>\n      <td>28546.646704</td>\n      <td>22968.347250</td>\n      <td>22585.073856</td>\n      <td>19388.625144</td>\n      <td>0.305349</td>\n      <td>0.245680</td>\n      <td>0.241581</td>\n      <td>0.207390</td>\n      <td>9853.133140</td>\n    </tr>\n    <tr>\n      <th>3</th>\n      <td>2019-10-03</td>\n      <td>0.008117</td>\n      <td>145.663292</td>\n      <td>0.007740</td>\n      <td>49.814222</td>\n      <td>0.003313</td>\n      <td>83.082734</td>\n      <td>0.003749</td>\n      <td>57.099236</td>\n      <td>28778.353338</td>\n      <td>23146.113779</td>\n      <td>22659.894262</td>\n      <td>19461.315968</td>\n      <td>0.306004</td>\n      <td>0.246116</td>\n      <td>0.240946</td>\n      <td>0.206935</td>\n      <td>9911.835869</td>\n    </tr>\n    <tr>\n      <th>4</th>\n      <td>2019-10-04</td>\n      <td>0.013058</td>\n      <td>147.565391</td>\n      <td>0.006696</td>\n      <td>50.147755</td>\n      <td>0.001651</td>\n      <td>83.219899</td>\n      <td>0.000170</td>\n      <td>57.108930</td>\n      <td>29154.146450</td>\n      <td>23301.089728</td>\n      <td>22697.304465</td>\n      <td>19464.620096</td>\n      <td>0.308127</td>\n      <td>0.246267</td>\n      <td>0.239886</td>\n      <td>0.205720</td>\n      <td>9972.066703</td>\n    </tr>\n    <tr>\n      <th>...</th>\n      <td>...</td>\n      <td>...</td>\n      <td>...</td>\n      <td>...</td>\n      <td>...</td>\n      <td>...</td>\n      <td>...</td>\n      <td>...</td>\n      <td>...</td>\n      <td>...</td>\n      <td>...</td>\n      <td>...</td>\n      <td>...</td>\n      <td>...</td>\n      <td>...</td>\n      <td>...</td>\n      <td>...</td>\n      <td>...</td>\n    </tr>\n    <tr>\n      <th>212</th>\n      <td>2020-08-03</td>\n      <td>0.008700</td>\n      <td>166.960000</td>\n      <td>0.014450</td>\n      <td>51.950000</td>\n      <td>-0.000349</td>\n      <td>89.270000</td>\n      <td>-0.000215</td>\n      <td>58.170000</td>\n      <td>32499.167720</td>\n      <td>24290.505272</td>\n      <td>23804.044529</td>\n      <td>21036.126119</td>\n      <td>0.319780</td>\n      <td>0.239010</td>\n      <td>0.234223</td>\n      <td>0.206988</td>\n      <td>10678.033634</td>\n    </tr>\n    <tr>\n      <th>213</th>\n      <td>2020-08-04</td>\n      <td>0.003953</td>\n      <td>167.620000</td>\n      <td>0.007700</td>\n      <td>52.350000</td>\n      <td>0.002128</td>\n      <td>89.460000</td>\n      <td>0.002579</td>\n      <td>58.320000</td>\n      <td>32627.638316</td>\n      <td>24477.535149</td>\n      <td>23854.708453</td>\n      <td>21090.370900</td>\n      <td>0.319721</td>\n      <td>0.239858</td>\n      <td>0.233755</td>\n      <td>0.206667</td>\n      <td>10722.205141</td>\n    </tr>\n    <tr>\n      <th>214</th>\n      <td>2020-08-05</td>\n      <td>0.007278</td>\n      <td>168.840000</td>\n      <td>0.005922</td>\n      <td>52.660000</td>\n      <td>-0.001341</td>\n      <td>89.340000</td>\n      <td>-0.002229</td>\n      <td>58.190000</td>\n      <td>32865.114266</td>\n      <td>24622.483304</td>\n      <td>23822.710185</td>\n      <td>21043.358757</td>\n      <td>0.321094</td>\n      <td>0.240563</td>\n      <td>0.232749</td>\n      <td>0.205595</td>\n      <td>10754.084179</td>\n    </tr>\n    <tr>\n      <th>215</th>\n      <td>2020-08-06</td>\n      <td>0.004857</td>\n      <td>169.660000</td>\n      <td>0.003038</td>\n      <td>52.820000</td>\n      <td>0.001567</td>\n      <td>89.480000</td>\n      <td>0.001203</td>\n      <td>58.260000</td>\n      <td>33024.729249</td>\n      <td>24697.295255</td>\n      <td>23860.041498</td>\n      <td>21068.672988</td>\n      <td>0.321719</td>\n      <td>0.240595</td>\n      <td>0.232439</td>\n      <td>0.205246</td>\n      <td>10785.296959</td>\n    </tr>\n    <tr>\n      <th>216</th>\n      <td>2020-08-07</td>\n      <td>0.000825</td>\n      <td>169.800000</td>\n      <td>-0.008898</td>\n      <td>52.350000</td>\n      <td>-0.001118</td>\n      <td>89.380000</td>\n      <td>-0.001888</td>\n      <td>58.150000</td>\n      <td>33051.980588</td>\n      <td>24477.535149</td>\n      <td>23833.376275</td>\n      <td>21028.893482</td>\n      <td>0.322799</td>\n      <td>0.239058</td>\n      <td>0.232766</td>\n      <td>0.205377</td>\n      <td>10758.089260</td>\n    </tr>\n  </tbody>\n</table>\n<p>217 rows × 18 columns</p>\n</div>"
     },
     "metadata": {},
     "execution_count": 8
    }
   ],
   "source": [
    "df"
   ]
  },
  {
   "cell_type": "code",
   "execution_count": null,
   "metadata": {},
   "outputs": [],
   "source": []
  }
 ],
 "metadata": {
  "kernelspec": {
   "display_name": "Python 3.8.3 64-bit ('investmentresearch': conda)",
   "language": "python",
   "name": "python_defaultSpec_1596944406787"
  },
  "language_info": {
   "codemirror_mode": {
    "name": "ipython",
    "version": 3
   },
   "file_extension": ".py",
   "mimetype": "text/x-python",
   "name": "python",
   "nbconvert_exporter": "python",
   "pygments_lexer": "ipython3",
   "version": "3.8.3-final"
  }
 },
 "nbformat": 4,
 "nbformat_minor": 4
}